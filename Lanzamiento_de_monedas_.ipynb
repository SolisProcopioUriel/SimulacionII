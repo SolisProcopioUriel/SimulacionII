{
  "nbformat": 4,
  "nbformat_minor": 0,
  "metadata": {
    "colab": {
      "provenance": [],
      "authorship_tag": "ABX9TyO5513lRBTpSniofn9HKi4S",
      "include_colab_link": true
    },
    "kernelspec": {
      "name": "python3",
      "display_name": "Python 3"
    },
    "language_info": {
      "name": "python"
    }
  },
  "cells": [
    {
      "cell_type": "markdown",
      "metadata": {
        "id": "view-in-github",
        "colab_type": "text"
      },
      "source": [
        "<a href=\"https://colab.research.google.com/github/SolisProcopioUriel/SimulacionII/blob/main/Lanzamiento_de_monedas_.ipynb\" target=\"_parent\"><img src=\"https://colab.research.google.com/assets/colab-badge.svg\" alt=\"Open In Colab\"/></a>"
      ]
    },
    {
      "cell_type": "markdown",
      "source": [
        "# Nombre: Solis Procopio Uriel\n",
        "# Materia: Simulación II\n",
        "# **Ejemplo 1**: Calcule la probabilidad de que aparezcan dos caras lanzando tres veces una moneda al aire."
      ],
      "metadata": {
        "id": "_lsIuCKFFq8q"
      }
    },
    {
      "cell_type": "markdown",
      "source": [
        "**Paso 1**: Definición de variables\n",
        "\n",
        "**x = \"Lanzamiento de una moneda\"**"
      ],
      "metadata": {
        "id": "XUsiDNVaGZ0_"
      }
    },
    {
      "cell_type": "markdown",
      "source": [
        "**Paso 2**: Distribución de probabilidad de cada variable\n",
        "\n",
        "|      |**Sol**|**Aguila**|\n",
        "|------|-------|----------|\n",
        "|f(x)  |  0.5  |     0.5  |"
      ],
      "metadata": {
        "id": "jHm__EsyHiy2"
      }
    },
    {
      "cell_type": "markdown",
      "source": [
        "**Paso 3:** Enumere la distribución acumulada de probabilidades de cada variable\n",
        "\n",
        "|      |**Sol**|**Aguila**|\n",
        "|------|-------|----------|\n",
        "|f(x)  |  0.5  |   0.5    |\n",
        "|F(x)  |  0.5  |   1      |"
      ],
      "metadata": {
        "id": "4cIg3s0SIC_h"
      }
    },
    {
      "cell_type": "markdown",
      "source": [
        "**Paso 4:**  Establezca el intervalo de números aleatorios correspondientes a cada valor de cada una de las variables\n",
        "\n",
        "|           |**Sol**           |**Aguila**|\n",
        "|-----------|-------           |----------|\n",
        "|f(x)       |   0.5            |   0.5    |\n",
        "|F(x)       |   0.5            |    1     |\n",
        "|Intervalos |  0.00 a 0.49     | 0.5 a 1  |"
      ],
      "metadata": {
        "id": "Qiq9q2grJBpn"
      }
    },
    {
      "cell_type": "markdown",
      "source": [
        "**Paso 5:** Generar números aleatorios"
      ],
      "metadata": {
        "id": "dSePUKWtKejR"
      }
    },
    {
      "cell_type": "code",
      "source": [
        "import numpy as np\n",
        "import random\n",
        "import matplotlib.pyplot as plt"
      ],
      "metadata": {
        "id": "3Z2dAduZKlN4"
      },
      "execution_count": null,
      "outputs": []
    },
    {
      "cell_type": "code",
      "source": [
        "def volados(n): #\"n\" indica la cantidad de lanzamientos de moneda que se quiere simular\n",
        "    caras = 0\n",
        "    for i in range(n): \n",
        "        u = random.uniform(0,1) #u es un número aleatorio, el lanzamiento sigue una distribución uniforme(0,1) \n",
        "        if u <= 0.5: #Si u<= 0.5 entonces significa que la moneda ha salido cara\n",
        "            caras += 1 # se invcrementa el valor de caras \n",
        "    return caras #La función retorna el número de veces que la moneda ha salido cara"
      ],
      "metadata": {
        "id": "Fb_bWLMjKodg"
      },
      "execution_count": null,
      "outputs": []
    },
    {
      "cell_type": "markdown",
      "source": [
        "**Paso 6:** Simule un lanzamiento"
      ],
      "metadata": {
        "id": "zs7NEHzjQcnu"
      }
    },
    {
      "cell_type": "code",
      "source": [
        "def caras(m): #Cuenta el número de veces que se obtienen axactamente \"m\" caras \n",
        "    favorable = 0\n",
        "    if volados(3) == m:# Simula 3 lanzamientos consecutivos de la moneda y lo comparamos con el número de \"caras\"\n",
        "        favorable +=1# se incrementa el valor de los casos favorables\n",
        "    return favorable #La función retorna el número de veces que la moneda ha salido cara"
      ],
      "metadata": {
        "id": "XRabA2RMNpVp"
      },
      "execution_count": null,
      "outputs": []
    },
    {
      "cell_type": "code",
      "source": [
        "def experimento(iteraciones): #Simula el experimento un número determinado de veces, es decir, el número de iteraciones\n",
        "    i = 0 \n",
        "    favorables=0 #Cuenta el número de veces que se obtienen dos caras en tres lanzamientos consecutivos\n",
        "    Lista = [] #Lista vacia\n",
        "    while i <= iteraciones:  # El objetivo de bucle es es repetir el experimento un número determinado de veces\n",
        "        favorables = favorables + caras(2) # En cada iteración del bucle, se llama a la función \"caras(2)\" para simular 3 lanzamientos de moneda y contar el número de veces que se obtienen dos caras consecutivas\n",
        "        i += 1 # Cuenta el número de iteraciones que se han realizado\n",
        "        probabilidad = favorables/i# Calculo de la probabilidad de obtener dos caras consecutivas en tres lanzamientos de moneda\n",
        "        Lista.append(probabilidad) #Registramos la probabilidad acumulada despues de cada iteración del experimento \n",
        "    return Lista #La función devuelve una lista de probabilidades acumuladas despues de cada iteración"
      ],
      "metadata": {
        "id": "VCLVT660P852"
      },
      "execution_count": null,
      "outputs": []
    },
    {
      "cell_type": "code",
      "source": [
        "exp = experimento(1400) #Realizamos el experimento la cantidad de veces que deseemos "
      ],
      "metadata": {
        "id": "ZRPekWV0QmPY"
      },
      "execution_count": null,
      "outputs": []
    },
    {
      "cell_type": "code",
      "source": [
        "np.mean(exp) #calcula la media de la lista de números generados en el experimento"
      ],
      "metadata": {
        "colab": {
          "base_uri": "https://localhost:8080/"
        },
        "id": "_xEINSKbWYBG",
        "outputId": "d40a68a7-bce7-443a-d4db-6d9116a00623"
      },
      "execution_count": null,
      "outputs": [
        {
          "output_type": "execute_result",
          "data": {
            "text/plain": [
              "0.39271793097618535"
            ]
          },
          "metadata": {},
          "execution_count": 44
        }
      ]
    },
    {
      "cell_type": "markdown",
      "source": [
        "**Paso 7:** Obtenga la gráfica de la estabilización que indica que el tamaño de muestra utilizado es suficiente para generalizar la convergencia del resultado."
      ],
      "metadata": {
        "id": "zf7ae-6iWoHO"
      }
    },
    {
      "cell_type": "code",
      "source": [
        "plt.plot(exp,color=\"red\") #Graficar\n",
        "plt.xlabel('iteraciones') #Etiqueta del eje de las x\n",
        "plt.ylabel('probabilidad') #Etiqueta del eje de las y\n",
        "plt.title('Probabilidad de obtener 2 caras') #Titulo de la grafica\n",
        "plt.show() #Mostrar la gráfica"
      ],
      "metadata": {
        "colab": {
          "base_uri": "https://localhost:8080/",
          "height": 472
        },
        "id": "go7egJPfXBj1",
        "outputId": "378ed0b8-40b1-4102-917c-2cdb23489cde"
      },
      "execution_count": null,
      "outputs": [
        {
          "output_type": "display_data",
          "data": {
            "text/plain": [
              "<Figure size 640x480 with 1 Axes>"
            ],
            "image/png": "[encoded data removed]"
          },
          "metadata": {}
        }
      ]
    },
    {
      "cell_type": "markdown",
      "source": [
        "**Paso 8:** Replique el modelo"
      ],
      "metadata": {
        "id": "lWGlkNwsYr-a"
      }
    },
    {
      "cell_type": "code",
      "source": [
        "def simulacion_caras(repeticiones):#Simula la cantidad de veces que queramos de el experimento antes descrito\n",
        "    List = [] #Lista vacia\n",
        "    for i in range(repeticiones): #repite na cierta cantidad de veces la simulación \n",
        "        List.append(np.mean(experimento(1400))) #Para cada iteración de nuestro bucle la función llamada experimento realiza 1400 lanzamientos de la moneda y devuelve la probabilidad de obtener dos caras en tres lanzamientos\n",
        "    return List #La función retorna una lista que contiene todas las probabilidades de obtener dos caras en tres lanzamientos"
      ],
      "metadata": {
        "id": "lYl-lqDhYwhx"
      },
      "execution_count": null,
      "outputs": []
    },
    {
      "cell_type": "code",
      "source": [
        "simulacion = simulacion_caras(1000) #Repetimos la función simulacion_caras 50 veces y la renombramos como simulacion"
      ],
      "metadata": {
        "id": "RpSP0706apMl"
      },
      "execution_count": null,
      "outputs": []
    },
    {
      "cell_type": "code",
      "source": [
        "plt.hist(simulacion,color=\"red\") #Grafica un histograma\n",
        "plt.xlabel('iteraciones') #Etiqueta del eje de las x\n",
        "plt.ylabel('p') #Etiqueta del eje de las y\n",
        "plt.title('Probabilidad') #Titulo del histograma\n",
        "plt.show() #Mostramos la gráfica"
      ],
      "metadata": {
        "colab": {
          "base_uri": "https://localhost:8080/",
          "height": 472
        },
        "id": "cj9oObWGa3vL",
        "outputId": "6a2e1c1d-b0e7-433d-c616-9ac6d9162cca"
      },
      "execution_count": null,
      "outputs": [
        {
          "output_type": "display_data",
          "data": {
            "text/plain": [
              "<Figure size 640x480 with 1 Axes>"
            ],
            "image/png": "[encoded data removed]"
          },
          "metadata": {}
        }
      ]
    },
    {
      "cell_type": "markdown",
      "source": [
        "**Paso 9:** Calcule la probabilidad de que aparezcan dos caras lanzando dos veces una moneda al aire y su desviación estandar "
      ],
      "metadata": {
        "id": "nlEgEcuIbifi"
      }
    },
    {
      "cell_type": "code",
      "source": [
        "np.mean(simulacion), np.var(simulacion), np.std(simulacion) #La primera entrada calcula la media, la segunda la varianza y finalmente su desviación estandar"
      ],
      "metadata": {
        "colab": {
          "base_uri": "https://localhost:8080/"
        },
        "id": "L3ioG2Glb4Qi",
        "outputId": "32a89a9c-eaf9-4eb9-e48b-7de06d66c67b"
      },
      "execution_count": null,
      "outputs": [
        {
          "output_type": "execute_result",
          "data": {
            "text/plain": [
              "(0.3748199219756827, 0.0003517362368611958, 0.018754632410719112)"
            ]
          },
          "metadata": {},
          "execution_count": 81
        }
      ]
    },
    {
      "cell_type": "markdown",
      "source": [
        "**Paso 10:** Hallar el intervalo de confianza de la probabilidad que aparezcan dos caras lanzando tres veces una moneda al aire con un nivel de confianza del $95\\%$ "
      ],
      "metadata": {
        "id": "Xi9VGp-Icm-B"
      }
    },
    {
      "cell_type": "code",
      "source": [
        "# Calcular intervalo de confianza del 95%\n",
        "media = np.mean(simulacion)\n",
        "error_estandar = np.std(simulacion, ddof=1) / np.sqrt(len(simulacion))\n",
        "intervalo = (media - 1.96 * error_estandar, media + 1.96 * error_estandar)\n",
        "\n",
        "# Imprimir resultado\n",
        "print(f\"La probabilidad de obtener dos caras en tres lanzamientos es {media:.5f} con un intervalo de confianza del 95%: [{intervalo[0]:.5f}, {intervalo[1]:.5f}].\")"
      ],
      "metadata": {
        "colab": {
          "base_uri": "https://localhost:8080/"
        },
        "id": "Vj2t7ITQdCm_",
        "outputId": "437f1e2f-3612-4150-a7cb-2eeb31fc5979"
      },
      "execution_count": null,
      "outputs": [
        {
          "output_type": "stream",
          "name": "stdout",
          "text": [
            "La probabilidad de obtener dos caras en tres lanzamientos es 0.37482 con un intervalo de confianza del 95%: [0.37366, 0.37598].\n"
          ]
        }
      ]
    }
  ]
}