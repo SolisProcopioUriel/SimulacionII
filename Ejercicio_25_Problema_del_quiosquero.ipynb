{
  "nbformat": 4,
  "nbformat_minor": 0,
  "metadata": {
    "colab": {
      "provenance": [],
      "authorship_tag": "ABX9TyNY7BDF2Q3+D5VzYLkcgplu",
      "include_colab_link": true
    },
    "kernelspec": {
      "name": "python3",
      "display_name": "Python 3"
    },
    "language_info": {
      "name": "python"
    }
  },
  "cells": [
    {
      "cell_type": "markdown",
      "metadata": {
        "id": "view-in-github",
        "colab_type": "text"
      },
      "source": [
        "<a href=\"https://colab.research.google.com/github/SolisProcopioUriel/SimulacionII/blob/main/Ejercicio_25_Problema_del_quiosquero.ipynb\" target=\"_parent\"><img src=\"https://colab.research.google.com/assets/colab-badge.svg\" alt=\"Open In Colab\"/></a>"
      ]
    },
    {
      "cell_type": "markdown",
      "source": [
        "#**Nombre:Solis Procopio Uriel**"
      ],
      "metadata": {
        "id": "MAXI5Sx1BNd8"
      }
    },
    {
      "cell_type": "markdown",
      "source": [
        "**Problema 25:** Un quiosquero vende periódicos a 1.10 euros cada uno. Cada periodico le cuesta al quiosquero 0.90 euros. Las ventas de periódicos del quiosquero a partir de su experiencia se refleja en la tabla siguiente:\n",
        "  \n",
        "| Periodicos  |30   |  40  |  50  |  60  |  70  |\n",
        "|-----------  |-----|------|----  |----  |----  |\n",
        "|f(x)         |   20% | 25%  | 25%  |  20% | 10%  |\n",
        "|f(x)         | 0.20 |0.25 | 0.25 | 0.20 | 0.10|\n",
        "|F(x)         | 0.20 | 0.45| 0.70 | 0.90 | 1.0|\n",
        "\n",
        "La tabla recoge que por ejemplo que el 20% del tiempo las ventas han sido de 30 periódicos. Teniendo el costo de 0.20 euros por venta perdida y el costo de 0.10 euros por reciclaje de cada periódico no vendido, determine el beneficio promedio diario si pide 50 periodicos cada día.\n",
        "\n",
        "(a) Por simulación\n",
        "(b) Análiticamente\n",
        "(c) Determine, por simulación el pedido de periódicos que optimiza el beneficio"
      ],
      "metadata": {
        "id": "NzQTGuLGBaPX"
      }
    },
    {
      "cell_type": "markdown",
      "source": [
        "#**Simulación**"
      ],
      "metadata": {
        "id": "apyFQm_7EOmW"
      }
    },
    {
      "cell_type": "markdown",
      "source": [
        "**Paso 1:** Definir variables\n",
        "\n",
        "  $x=$ Número de periodicos vendidos"
      ],
      "metadata": {
        "id": "eY77hquwUzax"
      }
    },
    {
      "cell_type": "markdown",
      "source": [
        "**Paso 2:** Distribución de probabilidad de cada variable\n",
        "\n",
        "| Periodicos  |30   |  40  |  50  |  60  |  70  |\n",
        "|-----------  |-----|------|----  |----  |----  |\n",
        "|f(x)         |   20% | 25%  | 25%  |  20% | 10% |\n",
        "|f(x)         | 0.20 |0.25 | 0.25 | 0.20 | 0.10|\n"
      ],
      "metadata": {
        "id": "tp3pLqOlVEhW"
      }
    },
    {
      "cell_type": "markdown",
      "source": [
        "**Paso 3:** Enumere la distribución acumulada de probabilidades de cada variable \n",
        "\n",
        "  | Periodicos  |30   |  40  |  50  |  60  |  70  |\n",
        "|-----------  |-----|------|----  |----  |----  |\n",
        "|f(x)         |   20% | 25%  | 25%  |  20% | 10%  |\n",
        "|f(x)         | 0.20 |0.25 | 0.25 | 0.20 | 0.10|\n",
        "|F(x)         | 0.20 | 0.45| 0.70 | 0.90 | 1.0|"
      ],
      "metadata": {
        "id": "d8cY_kFiVWfh"
      }
    },
    {
      "cell_type": "markdown",
      "source": [
        "**Paso 4:** Establezca el intervalo de números aleatorios correspondientes a cada valor de cada una de las variables\n",
        "\n",
        "  | Periodicos  |30   |  40  |  50  |  60  |  70  |\n",
        "|-----------  |-----|------|----  |----  |----  |\n",
        "|f(x)         |   20% | 25%  | 25%  |  20% | 10%  |\n",
        "|f(x)         | 0.20 |0.25 | 0.25 | 0.20 | 0.10|\n",
        "|F(x)         | 0.20 | 0.45| 0.70 | 0.90 | 1.0|\n",
        "|Intervalo | 0 a 0.19| 0.20 a 0.44 | 0.45 a 0.69 | 0.70 a 0.89 | 0.90 a 1"
      ],
      "metadata": {
        "id": "fdyeKnElVpQU"
      }
    },
    {
      "cell_type": "markdown",
      "source": [
        "**Paso 5:** Generar números aleatorios"
      ],
      "metadata": {
        "id": "K-hdJaB9WLUS"
      }
    },
    {
      "cell_type": "code",
      "execution_count": 17,
      "metadata": {
        "id": "yZiSSl-kAurC"
      },
      "outputs": [],
      "source": [
        "import numpy as np\n",
        "import random\n",
        "import matplotlib.pyplot as plt"
      ]
    },
    {
      "cell_type": "code",
      "source": [
        "def ventas_sim():\n",
        "    ventas=0  # Inicializamos la variable \"ventas\" en cero\n",
        "    u = random.random() # Generamos un número aleatorio entre 0 y 1\n",
        "     # Utilizamos una serie de condicionales para asignar un valor de ventas en función del número aleatorio generado\n",
        "    if 0.0 <= u < 0.20:\n",
        "        ventas = 30\n",
        "    elif 0.20 <= u < 0.45:\n",
        "        ventas = 40\n",
        "    elif 0.45 <= u < 0.70:\n",
        "        ventas = 50\n",
        "    elif 0.70 <= u < 0.90:\n",
        "        ventas = 60\n",
        "    elif 0.90 <= u <= 1.00:\n",
        "        ventas = 70\n",
        "    return ventas # Retornamos el valor de \"ventas\" obtenido en la simulación"
      ],
      "metadata": {
        "id": "jWPRl_rPNho3"
      },
      "execution_count": 18,
      "outputs": []
    },
    {
      "cell_type": "markdown",
      "source": [
        "**Paso 6:** Calculamos el beneficio de un día"
      ],
      "metadata": {
        "id": "E4PgLJyKWWfM"
      }
    },
    {
      "cell_type": "code",
      "source": [
        "# Función que calcula el beneficio diario\n",
        "def beneficio(pedido):\n",
        "    ben = 0\n",
        "    ventas_reales = 0\n",
        "    ventas_perdidas = 0\n",
        "    no_vendidos = 0\n",
        "    vs = ventas_sim()\n",
        "    # Si se venden más productos de los que se pidieron\n",
        "    if vs > pedido:\n",
        "        ventas_reales = pedido\n",
        "        ventas_perdidas = vs - pedido\n",
        "        no_vendidos = 0\n",
        "    # Si se venden menos o igual cantidad de productos de los que se pidieron\n",
        "    else:\n",
        "        ventas_reales = vs\n",
        "        ventas_perdidas = 0\n",
        "        no_vendidos = pedido - ventas_reales\n",
        "    # Cálculo del beneficio diario con las condiciones del problema\n",
        "    ben = 1.10*ventas_reales - 0.90*pedido - 0.10*no_vendidos - 0.20*ventas_perdidas\n",
        "    return ben "
      ],
      "metadata": {
        "id": "Fmfx7zxZNp7p"
      },
      "execution_count": 19,
      "outputs": []
    },
    {
      "cell_type": "code",
      "source": [
        "beneficio(50) # Asignamos valores a n =50 ya que es en promedio lo que pide de periodicos el quiosquero"
      ],
      "metadata": {
        "colab": {
          "base_uri": "https://localhost:8080/"
        },
        "id": "c_jOy7_GNv6Q",
        "outputId": "e2493592-8f5a-41a0-f637-c3b9369e501d"
      },
      "execution_count": 23,
      "outputs": [
        {
          "output_type": "execute_result",
          "data": {
            "text/plain": [
              "10.000000000000007"
            ]
          },
          "metadata": {},
          "execution_count": 23
        }
      ]
    },
    {
      "cell_type": "code",
      "source": [
        "def simulacion(n):\n",
        "    L=[] #Lista vacia\n",
        "    benef = 0  # inicializamos la variable para acumular el beneficio total\n",
        "    for i in range(n):\n",
        "        benef += beneficio(50) # calculamos el beneficio para un pedido de 50 unidades\n",
        "        L.append(benef/(i+1)) # agregamos el beneficio promedio de la muestra actual a la lista\n",
        "    return L # retornamos la lista con los beneficios promedio para cada muestra"
      ],
      "metadata": {
        "id": "n6hrScWbN1av"
      },
      "execution_count": 25,
      "outputs": []
    },
    {
      "cell_type": "code",
      "source": [
        "X=simulacion(800) # Asignamos valores a n"
      ],
      "metadata": {
        "id": "FGcQ8Ux2N4kt"
      },
      "execution_count": 28,
      "outputs": []
    },
    {
      "cell_type": "markdown",
      "source": [
        "**Paso 7:** Obtenga la gráfica de la estabilización que indica que el tamaño de muestra utilizado es suficiente para generalizar la convergencia del resultado."
      ],
      "metadata": {
        "id": "qnGzsRPOWuzD"
      }
    },
    {
      "cell_type": "code",
      "source": [
        "plt.plot(X, color=\"red\") #Graficamos y vemos en que iteración se estabiliza\n",
        "plt.xlabel('iteraciones') #Etiqueta del eje de las x\n",
        "plt.ylabel('probabilidad') #Etiqueta del eje de las y\n",
        "plt.show() #Mostrar la gráfica"
      ],
      "metadata": {
        "colab": {
          "base_uri": "https://localhost:8080/",
          "height": 449
        },
        "id": "ahrwPwxqN7zJ",
        "outputId": "53102c50-fdc8-4bbc-80fb-febf34bc3318"
      },
      "execution_count": 29,
      "outputs": [
        {
          "output_type": "display_data",
          "data": {
            "text/plain": [
              "<Figure size 640x480 with 1 Axes>"
            ],
            "image/png": "[encoded data removed]"
          },
          "metadata": {}
        }
      ]
    },
    {
      "cell_type": "code",
      "source": [
        "np.mean(X) #Calculamos la media"
      ],
      "metadata": {
        "colab": {
          "base_uri": "https://localhost:8080/"
        },
        "id": "8E6ucIDgN_uB",
        "outputId": "fbb8063a-b90f-4297-dc78-495edd5de22d"
      },
      "execution_count": 30,
      "outputs": [
        {
          "output_type": "execute_result",
          "data": {
            "text/plain": [
              "1.1791211311332614"
            ]
          },
          "metadata": {},
          "execution_count": 30
        }
      ]
    },
    {
      "cell_type": "markdown",
      "source": [
        "**Paso 8:** Replique el modelo"
      ],
      "metadata": {
        "id": "n5AqesOMW4XP"
      }
    },
    {
      "cell_type": "code",
      "source": [
        "#Repetimos la simulación n veces\n",
        "def modelo(n):\n",
        "    lista=[]\n",
        "    for i in range(n):\n",
        "        s = simulacion(800) # Realizamos la simulación de beneficio para 800 días\n",
        "        lista.append(np.mean(s)) # Agregamos la media de los beneficios obtenidos en la lista\n",
        "    return lista"
      ],
      "metadata": {
        "id": "yDRmnrjYODaC"
      },
      "execution_count": 32,
      "outputs": []
    },
    {
      "cell_type": "code",
      "source": [
        "Y=modelo(150)  # Asignamos valores a n "
      ],
      "metadata": {
        "id": "Gp0fehzlOGnP"
      },
      "execution_count": 37,
      "outputs": []
    },
    {
      "cell_type": "code",
      "source": [
        "plt.hist(Y, color=\"red\") #Graficamos las n simulaciones\n",
        "plt.show() #MOstramos la gráfica"
      ],
      "metadata": {
        "colab": {
          "base_uri": "https://localhost:8080/",
          "height": 430
        },
        "id": "6vQ-qy75OMj6",
        "outputId": "3be47785-2a8c-4c11-832a-f9aa7f0dcf9b"
      },
      "execution_count": 39,
      "outputs": [
        {
          "output_type": "display_data",
          "data": {
            "text/plain": [
              "<Figure size 640x480 with 1 Axes>"
            ],
            "image/png": "[encoded data removed]"
          },
          "metadata": {}
        }
      ]
    },
    {
      "cell_type": "markdown",
      "source": [
        "**Paso 9:** Calcule la media del beneficio y  su desviación estandar"
      ],
      "metadata": {
        "id": "hLyYd1aNXC-t"
      }
    },
    {
      "cell_type": "code",
      "source": [
        "print(np.mean(Y), np.std(Y)) # Imprimimos la media y la desviación estándar"
      ],
      "metadata": {
        "colab": {
          "base_uri": "https://localhost:8080/"
        },
        "id": "2mTL7UFROKFb",
        "outputId": "e0775f67-48ed-4a2c-d037-adad7cbedcf6"
      },
      "execution_count": 38,
      "outputs": [
        {
          "output_type": "stream",
          "name": "stdout",
          "text": [
            "1.386647794927798 0.4757590888744791\n"
          ]
        }
      ]
    },
    {
      "cell_type": "markdown",
      "source": [
        "**Paso 10:** Hallar el intervalo de confianza"
      ],
      "metadata": {
        "id": "L2iOypqsXRd8"
      }
    },
    {
      "cell_type": "code",
      "source": [
        "np.mean(Y) - 1.96*np.std(Y)/np.sqrt(50), np.mean(Y) + 1.96*np.std(Y)/np.sqrt(50) #Calculamos el intervalo de confianza"
      ],
      "metadata": {
        "colab": {
          "base_uri": "https://localhost:8080/"
        },
        "id": "Yvg-QV9kTebi",
        "outputId": "bd7fbe3b-d373-48a0-87a0-ea068b9fba7a"
      },
      "execution_count": 40,
      "outputs": [
        {
          "output_type": "execute_result",
          "data": {
            "text/plain": [
              "(1.2547741035697213, 1.5185214862858747)"
            ]
          },
          "metadata": {},
          "execution_count": 40
        }
      ]
    },
    {
      "cell_type": "markdown",
      "source": [
        "#**Análiticamente**\n"
      ],
      "metadata": {
        "id": "4pllTRh7Ygq4"
      }
    },
    {
      "cell_type": "markdown",
      "source": [
        "Considerando la  siguiente tabla \n",
        "\n",
        "| Periodicos  |30   |  40  |  50  |  60  |  70  |\n",
        "|-----------  |-----|------|----  |----  |----  |\n",
        "|f(x)         |   20% | 25%  | 25%  |  20% | 10%  |\n",
        "|f(x)         | 0.20 |0.25 | 0.25 | 0.20 | 0.10|\n",
        "|F(x)         | 0.20 | 0.45| 0.70 | 0.90 | 1.0|\n",
        "|Intervalo | 0 a 0.19| 0.20 a 0.44 | 0.45 a 0.69 | 0.70 a 0.89 | 0.90 a 1|\n",
        "\n",
        "Para poder simular las ventas de un día y poder calcular el beneficio, en la siguiente tabla, Considerando que el beneficio se calcula como\n",
        "\n",
        "  Beneficio = (Precio unitario de venta $\\cdot$ ventas reales ) - (costo unitario de adquisición $⋅$ ventas pedidas) \n",
        "\n",
        "|Dia | Número aleatorio | Venta simuladas | Ventas reales | Ventas perdidas | Periodicos no vendidos | Beneficio(€) | Beneficio promedio (€)|\n",
        "|---|---|---|---|---|---|---|---|\n",
        "|1 | 0.23 | 40 | 40 | 0 | 10 | -2 | -2 |\n",
        "|2 | 0.73 | 60 | 50 | 10| 0  | 8 |  3   |\n",
        "|3 | 0.10 | 30 | 30 | 0 | 20 | -14 | -2.66 |\n",
        "|4 | 0.47 | 60 | 50 | 10 |0 | 8 | 0| \n",
        "|5| 0.63 | 50 | 50 | 0 | 0 | 10 | 2|\n",
        "|6| 0.20 | 40 | 40 | 0 | 10 | -2 | 1.33|\n",
        "|7| 0.12 | 30 | 30 | 0 | 20 | -14 | -0.8571|\n",
        "|8| 0.78 | 60 | 50 | 10 | 0 | 8 | 0.25|\n",
        "|9| 0.71 | 60 | 50 | 10 |0 |8 | 1.11|\n",
        "|10|0.57|50 | 50 | 0 | 0 | 10 | 2|\n",
        "\n",
        "\n",
        "Lo cual implica que despues de 10 dias se espera que el quiosquero tenga un beneficio de 2 € de todos los periodicos vendidos.\n",
        "\n",
        "Los números aleatorios fueron generados por una calculadora, y las cuentas fueron realizadas por excel.\n",
        "\n",
        "\n"
      ],
      "metadata": {
        "id": "cCBQBX1KYlVm"
      }
    },
    {
      "cell_type": "markdown",
      "source": [],
      "metadata": {
        "id": "IZyIW2RFh6Ab"
      }
    },
    {
      "cell_type": "markdown",
      "source": [
        "#**Determine, por simulación el pedido de periódicos que optimiza el beneficio**"
      ],
      "metadata": {
        "id": "mu42_9FSYyKi"
      }
    },
    {
      "cell_type": "markdown",
      "source": [
        "Tomando nuevamente el código de la sección de simulación para este problema"
      ],
      "metadata": {
        "id": "RhwcRWHtY2Gg"
      }
    },
    {
      "cell_type": "code",
      "source": [
        "import numpy as np\n",
        "import random\n",
        "import matplotlib.pyplot as plt"
      ],
      "metadata": {
        "id": "NPzlKZKxZBys"
      },
      "execution_count": 44,
      "outputs": []
    },
    {
      "cell_type": "code",
      "source": [
        "def ventas_sim():\n",
        "    ventas=0  # Inicializamos la variable \"ventas\" en cero\n",
        "    u = random.random() # Generamos un número aleatorio entre 0 y 1\n",
        "     # Utilizamos una serie de condicionales para asignar un valor de ventas en función del número aleatorio generado\n",
        "    if 0.0 <= u < 0.20:\n",
        "        ventas = 30\n",
        "    elif 0.20 <= u < 0.45:\n",
        "        ventas = 40\n",
        "    elif 0.45 <= u < 0.70:\n",
        "        ventas = 50\n",
        "    elif 0.70 <= u < 0.90:\n",
        "        ventas = 60\n",
        "    elif 0.90 <= u <= 1.00:\n",
        "        ventas = 70\n",
        "    return ventas # Retornamos el valor de \"ventas\" obtenido en la simulación"
      ],
      "metadata": {
        "id": "56i-MUk6ZP6f"
      },
      "execution_count": 45,
      "outputs": []
    },
    {
      "cell_type": "code",
      "source": [
        "# Función que calcula el beneficio diario\n",
        "def beneficio(pedido):\n",
        "    ben = 0\n",
        "    ventas_reales = 0\n",
        "    ventas_perdidas = 0\n",
        "    no_vendidos = 0\n",
        "    vs = ventas_sim()\n",
        "    # Si se venden más productos de los que se pidieron\n",
        "    if vs > pedido:\n",
        "        ventas_reales = pedido\n",
        "        ventas_perdidas = vs - pedido\n",
        "        no_vendidos = 0\n",
        "    # Si se venden menos o igual cantidad de productos de los que se pidieron\n",
        "    else:\n",
        "        ventas_reales = vs\n",
        "        ventas_perdidas = 0\n",
        "        no_vendidos = pedido - ventas_reales\n",
        "    # Cálculo del beneficio diario con las condiciones del problema\n",
        "    ben = 1.10*ventas_reales - 0.90*pedido - 0.10*no_vendidos - 0.20*ventas_perdidas\n",
        "    return ben "
      ],
      "metadata": {
        "id": "l_yMPKKMZXof"
      },
      "execution_count": 46,
      "outputs": []
    },
    {
      "cell_type": "code",
      "source": [
        "beneficio(80) # buscaremos el mejor pedido de periodicos para optimizar el beneficio"
      ],
      "metadata": {
        "colab": {
          "base_uri": "https://localhost:8080/"
        },
        "id": "JgMh2K7YZeuv",
        "outputId": "9dcdab05-8ed5-4a36-af20-7df99d05b33e"
      },
      "execution_count": 114,
      "outputs": [
        {
          "output_type": "execute_result",
          "data": {
            "text/plain": [
              "-44.0"
            ]
          },
          "metadata": {},
          "execution_count": 114
        }
      ]
    },
    {
      "cell_type": "code",
      "source": [
        "def simulacion(n):\n",
        "    L=[] #Lista vacia\n",
        "    benef = 0  # inicializamos la variable para acumular el beneficio total\n",
        "    for i in range(n):\n",
        "        benef += beneficio(50) # calculamos el beneficio para un pedido de 50 unidades\n",
        "        L.append(benef/(i+1)) # agregamos el beneficio promedio de la muestra actual a la lista\n",
        "    return L # retornamos la lista con los beneficios promedio para cada muestra"
      ],
      "metadata": {
        "id": "4yvn5N29ZwIZ"
      },
      "execution_count": 115,
      "outputs": []
    },
    {
      "cell_type": "code",
      "source": [
        "X=simulacion(800) # Asignamos valores a n"
      ],
      "metadata": {
        "id": "vpq6madpZ34F"
      },
      "execution_count": 116,
      "outputs": []
    },
    {
      "cell_type": "code",
      "source": [
        "plt.plot(X, color=\"red\") #Graficamos y vemos en que iteración se estabiliza\n",
        "plt.xlabel('iteraciones') #Etiqueta del eje de las x\n",
        "plt.ylabel('probabilidad') #Etiqueta del eje de las y\n",
        "plt.show() #Mostrar la gráfica"
      ],
      "metadata": {
        "colab": {
          "base_uri": "https://localhost:8080/",
          "height": 449
        },
        "id": "f9tpQELoaByV",
        "outputId": "4753c660-3805-45c8-a169-e6547f625ed2"
      },
      "execution_count": 117,
      "outputs": [
        {
          "output_type": "display_data",
          "data": {
            "text/plain": [
              "<Figure size 640x480 with 1 Axes>"
            ],
            "image/png": "[encoded data removed]"
          },
          "metadata": {}
        }
      ]
    },
    {
      "cell_type": "code",
      "source": [
        "np.mean(X) #Calculamos la media"
      ],
      "metadata": {
        "colab": {
          "base_uri": "https://localhost:8080/"
        },
        "id": "mpPZgUSsaGly",
        "outputId": "a6890f4c-161c-4e4e-9a22-6645bb9f0d89"
      },
      "execution_count": 118,
      "outputs": [
        {
          "output_type": "execute_result",
          "data": {
            "text/plain": [
              "2.5588893918684077"
            ]
          },
          "metadata": {},
          "execution_count": 118
        }
      ]
    },
    {
      "cell_type": "markdown",
      "source": [
        "En la siguiente tabla tendremos los beneficios dependiendo de del volumen del pedido que se rezalice, esto para poder dar las conclusiones para este inciso \n",
        "\n",
        "|Pedido | Beneficio|\n",
        "|-------|----------|\n",
        "|50     | 1.0363   |\n",
        "|100    | 1.8369   |\n",
        "|200    | 0.4724   |\n",
        "|300    | 1.4965   |\n",
        "\n",
        "Podemos observar que el mejor beneficio hasta ahora estan con un pedido de 100, ahora buscaremos un mejor beneficio al rededor de el pedido de 100 periodicos\n",
        "\n",
        "|Pedido | Beneficio|\n",
        "|-------|----------|\n",
        "|70     | 1.4957   |\n",
        "|80     | 1.8460   |\n",
        "|90     | 1.2592   |\n",
        "|100    | 1.8369   |\n",
        "|110    | 1.5334   |\n",
        "|300    | 1.4965   |\n",
        "\n",
        "Bajo los resultados obtenidos, podemos concluir que el pedido más optimo para tener un major beneficio es realizar un pedido de 80 periodicos"
      ],
      "metadata": {
        "id": "1tALboJ3aJ_-"
      }
    }
  ]
}