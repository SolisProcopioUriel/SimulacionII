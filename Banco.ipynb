{
  "nbformat": 4,
  "nbformat_minor": 0,
  "metadata": {
    "colab": {
      "provenance": [],
      "authorship_tag": "ABX9TyOxFATbFddx8hOaxze6qvkz",
      "include_colab_link": true
    },
    "kernelspec": {
      "name": "python3",
      "display_name": "Python 3"
    },
    "language_info": {
      "name": "python"
    }
  },
  "cells": [
    {
      "cell_type": "markdown",
      "metadata": {
        "id": "view-in-github",
        "colab_type": "text"
      },
      "source": [
        "<a href=\"https://colab.research.google.com/github/SolisProcopioUriel/SimulacionII/blob/main/Banco.ipynb\" target=\"_parent\"><img src=\"https://colab.research.google.com/assets/colab-badge.svg\" alt=\"Open In Colab\"/></a>"
      ]
    },
    {
      "cell_type": "code",
      "source": [
        "!pip install simpy\n",
        "import random\n",
        "import simpy\n",
        "import pandas as pd\n",
        "import matplotlib.pyplot as plt\n",
        "\n",
        "NUEVOS_CLIENTES = 15  # Número total de clientes\n",
        "INTERVALO_CLIENTES = 10  # Generar nuevos clientes aproximadamente cada x segundos\n",
        "PACIENCIA_MINIMA = 4  # Paciencia mínima del cliente\n",
        "PACIENCIA_MAXIMA = 6  # Paciencia máxima del cliente\n",
        "\n",
        "# Variables para almacenar los tiempos de llegada, tiempos de espera y tiempos de servicio de los clientes\n",
        "tiempos_llegada = []\n",
        "tiempos_espera = []\n",
        "tiempos_servicio = []\n",
        "abandonaron = 0\n",
        "se_mantienen = 0\n",
        "\n",
        "def fuente(env, numero, intervalo, contador):\n",
        "    \"\"\"Fuente genera clientes de forma aleatoria\"\"\"\n",
        "    for i in range(numero):\n",
        "        c = cliente(env, 'Cliente%1d' % (i+1), contador, tiempo_en_banco=12.0)\n",
        "        env.process(c)\n",
        "        t = random.expovariate(1.0 / intervalo)\n",
        "        yield env.timeout(t)\n",
        "\n",
        "\n",
        "def cliente(env, nombre, contador, tiempo_en_banco):\n",
        "    \"\"\"El cliente llega, es atendido y se va.\"\"\"\n",
        "    llegada = env.now\n",
        "    tiempos_llegada.append(llegada)\n",
        "    print('%7.4f %s: Aquí estoy' % (llegada, nombre))\n",
        "\n",
        "    with contador.request() as req:\n",
        "        paciencia = random.uniform(PACIENCIA_MINIMA, PACIENCIA_MAXIMA)\n",
        "        resultados = yield req | env.timeout(paciencia)\n",
        "\n",
        "        espera = env.now - llegada\n",
        "\n",
        "        if req in resultados:\n",
        "            print('%7.4f %s: Esperé %6.3f' % (env.now, nombre, espera))\n",
        "            tiempos_espera.append(espera)\n",
        "            global se_mantienen\n",
        "            se_mantienen += 1\n",
        "\n",
        "            tib = random.expovariate(1.0 / tiempo_en_banco)\n",
        "            yield env.timeout(tib)\n",
        "            print('%7.4f %s: Terminé' % (env.now, nombre))\n",
        "            tib = env.now - llegada\n",
        "            tiempos_servicio.append(tib)\n",
        "        else:\n",
        "            print('%7.4f %s: ABANDONÉ después de %6.3f' % (env.now, nombre, espera))\n",
        "            tiempos_espera.append(espera)\n",
        "            global abandonaron\n",
        "            abandonaron += 1\n",
        "            tib = [None]\n",
        "            tiempos_servicio.append(tib)\n",
        "\n",
        "\n",
        "# Configuración y ejecución de la simulación\n",
        "env = simpy.Environment()\n",
        "\n",
        "contador = simpy.Resource(env, capacity=1)\n",
        "env.process(fuente(env, NUEVOS_CLIENTES, INTERVALO_CLIENTES, contador))\n",
        "env.run()\n",
        "\n",
        "# Crear la tabla de tiempos de llegada, tiempos de espera y tiempos de servicio\n",
        "tabla = pd.DataFrame({\n",
        "    'Número de Cliente': ['Cliente%01d' % (i+1) for i in range(NUEVOS_CLIENTES)],\n",
        "    'Tiempo de Llegada': tiempos_llegada,\n",
        "    'Tiempo de Espera': tiempos_espera + [None] * (NUEVOS_CLIENTES - len(tiempos_espera)),\n",
        "    'Tiempo de Servicio': tiempos_servicio + [None] * (NUEVOS_CLIENTES - len(tiempos_servicio))\n",
        "})\n",
        "tabla1 = tabla.set_index('Número de Cliente')"
      ],
      "metadata": {
        "colab": {
          "base_uri": "https://localhost:8080/"
        },
        "id": "QDfK1tJEw_Um",
        "outputId": "4aa8f6e1-74cd-4270-ca6f-6c68a71b3fa3"
      },
      "execution_count": 24,
      "outputs": [
        {
          "output_type": "stream",
          "name": "stdout",
          "text": [
            "Requirement already satisfied: simpy in /usr/local/lib/python3.10/dist-packages (4.0.1)\n",
            " 0.0000 Cliente1: Aquí estoy\n",
            " 0.0000 Cliente1: Esperé  0.000\n",
            " 2.3937 Cliente1: Terminé\n",
            " 8.7847 Cliente2: Aquí estoy\n",
            " 8.7847 Cliente2: Esperé  0.000\n",
            "10.8872 Cliente2: Terminé\n",
            "15.9225 Cliente3: Aquí estoy\n",
            "15.9225 Cliente3: Esperé  0.000\n",
            "18.1445 Cliente4: Aquí estoy\n",
            "19.2865 Cliente3: Terminé\n",
            "19.2865 Cliente4: Esperé  1.142\n",
            "21.1306 Cliente4: Terminé\n",
            "32.4477 Cliente5: Aquí estoy\n",
            "32.4477 Cliente5: Esperé  0.000\n",
            "32.5249 Cliente5: Terminé\n",
            "85.0159 Cliente6: Aquí estoy\n",
            "85.0159 Cliente6: Esperé  0.000\n",
            "85.9813 Cliente7: Aquí estoy\n",
            "86.5869 Cliente6: Terminé\n",
            "86.5869 Cliente7: Esperé  0.606\n",
            "89.1046 Cliente7: Terminé\n",
            "92.6066 Cliente8: Aquí estoy\n",
            "92.6066 Cliente8: Esperé  0.000\n",
            "111.4805 Cliente9: Aquí estoy\n",
            "116.7763 Cliente8: Terminé\n",
            "116.7763 Cliente9: Esperé  5.296\n",
            "125.3652 Cliente10: Aquí estoy\n",
            "129.6149 Cliente10: ABANDONÉ después de  4.250\n",
            "133.4795 Cliente11: Aquí estoy\n",
            "134.9382 Cliente12: Aquí estoy\n",
            "136.6015 Cliente13: Aquí estoy\n",
            "138.9034 Cliente11: ABANDONÉ después de  5.424\n",
            "140.4106 Cliente12: ABANDONÉ después de  5.472\n",
            "140.9479 Cliente13: ABANDONÉ después de  4.346\n",
            "142.6864 Cliente9: Terminé\n",
            "151.1660 Cliente14: Aquí estoy\n",
            "151.1660 Cliente14: Esperé  0.000\n",
            "153.2774 Cliente15: Aquí estoy\n",
            "158.4906 Cliente15: ABANDONÉ después de  5.213\n",
            "166.6375 Cliente14: Terminé\n"
          ]
        }
      ]
    },
    {
      "cell_type": "code",
      "source": [
        "# Mostrar la tabla\n",
        "print('Tabla de Tiempos de Llegada, Tiempos de Espera y Tiempos de Servicio:\\n')\n",
        "print(tabla1)"
      ],
      "metadata": {
        "colab": {
          "base_uri": "https://localhost:8080/"
        },
        "id": "VuAGNmFPxFyo",
        "outputId": "1b454bf5-12ac-4a36-de82-55d6cf7114a4"
      },
      "execution_count": 25,
      "outputs": [
        {
          "output_type": "stream",
          "name": "stdout",
          "text": [
            "Tabla de Tiempos de Llegada, Tiempos de Espera y Tiempos de Servicio:\n",
            "\n",
            "                   Tiempo de Llegada  Tiempo de Espera Tiempo de Servicio\n",
            "Número de Cliente                                                        \n",
            "Cliente1                    0.000000          0.000000           2.393679\n",
            "Cliente2                    8.784683          0.000000           2.102564\n",
            "Cliente3                   15.922514          0.000000           3.364024\n",
            "Cliente4                   18.144526          1.142013           2.986106\n",
            "Cliente5                   32.447668          0.000000            0.07721\n",
            "Cliente6                   85.015903          0.000000           1.570955\n",
            "Cliente7                   85.981330          0.605527           3.123241\n",
            "Cliente8                   92.606598          0.000000          24.169726\n",
            "Cliente9                  111.480483          5.295841             [None]\n",
            "Cliente10                 125.365176          4.249718             [None]\n",
            "Cliente11                 133.479466          5.423885             [None]\n",
            "Cliente12                 134.938172          5.472433             [None]\n",
            "Cliente13                 136.601543          4.346351          31.205883\n",
            "Cliente14                 151.165954          0.000000             [None]\n",
            "Cliente15                 153.277373          5.213266          15.471533\n"
          ]
        }
      ]
    },
    {
      "cell_type": "code",
      "source": [
        "# Crear la gráfica de barras de los tiempos de espera\n",
        "plt.bar(range(len(tiempos_espera)), tiempos_espera)\n",
        "plt.xlabel('Número de Cliente')\n",
        "plt.ylabel('Tiempo de Espera')\n",
        "plt.title('Tiempos de Espera de los Clientes')\n",
        "plt.show()"
      ],
      "metadata": {
        "colab": {
          "base_uri": "https://localhost:8080/",
          "height": 472
        },
        "id": "Llq_HUNOxPEA",
        "outputId": "27d3677e-2d50-40cf-952e-2d37c3310615"
      },
      "execution_count": 26,
      "outputs": [
        {
          "output_type": "display_data",
          "data": {
            "text/plain": [
              "<Figure size 640x480 with 1 Axes>"
            ],
            "image/png": "[encoded data removed]"
          },
          "metadata": {}
        }
      ]
    },
    {
      "cell_type": "code",
      "source": [
        "print(\"Personas que abandonaron:\", abandonaron)\n",
        "print(\"Personas que se quedaron:\", se_mantienen)"
      ],
      "metadata": {
        "colab": {
          "base_uri": "https://localhost:8080/"
        },
        "id": "_0m5yOVuxZ3I",
        "outputId": "02d0c24b-caf7-4b4b-9a91-be136fe2ae51"
      },
      "execution_count": 28,
      "outputs": [
        {
          "output_type": "stream",
          "name": "stdout",
          "text": [
            "Personas que abandonaron: 5\n",
            "Personas que se quedaron: 10\n"
          ]
        }
      ]
    }
  ]
}