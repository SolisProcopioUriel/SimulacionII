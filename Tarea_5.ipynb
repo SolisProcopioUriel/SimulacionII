{
  "nbformat": 4,
  "nbformat_minor": 0,
  "metadata": {
    "colab": {
      "provenance": [],
      "authorship_tag": "ABX9TyMLSezcFiOxw1v2JCR9wD9F",
      "include_colab_link": true
    },
    "kernelspec": {
      "name": "python3",
      "display_name": "Python 3"
    },
    "language_info": {
      "name": "python"
    }
  },
  "cells": [
    {
      "cell_type": "markdown",
      "metadata": {
        "id": "view-in-github",
        "colab_type": "text"
      },
      "source": [
        "<a href=\"https://colab.research.google.com/github/SolisProcopioUriel/SimulacionII/blob/main/Tarea_5.ipynb\" target=\"_parent\"><img src=\"https://colab.research.google.com/assets/colab-badge.svg\" alt=\"Open In Colab\"/></a>"
      ]
    },
    {
      "cell_type": "markdown",
      "source": [
        "#Nombre: Solis Procopio Uriel\n",
        "#Simulación II\n",
        "#AnyLogic"
      ],
      "metadata": {
        "id": "el819gdqyCAu"
      }
    },
    {
      "cell_type": "markdown",
      "source": [
        "#Introducción\n",
        "AnyLogic es una plataforma de simulación multi-método y multi-agente utilizada para modelar y simular sistemas complejos en una amplia gama de industrias. La metodología de programación en AnyLogic combina tres paradigmas principales: diagrama de bloques, programación orientada a objetos y programación basada en agentes."
      ],
      "metadata": {
        "id": "xQgHsSTxz1Uz"
      }
    },
    {
      "cell_type": "markdown",
      "source": [
        "#Instalación AnyLogic\n",
        "\n",
        "Para la instalación basta con descargar el archivo necesario para algunos de los sistemas operativos desde el siguiente link: https://www.anylogic.com/downloads/\n",
        "\n",
        "Seleccionamos el sistema operativo que estemos utilizando y descargamos el archivo posteirmente nos dirigimos al archivo descargado e instalamos como usualmente hacemos."
      ],
      "metadata": {
        "id": "gBXg_QUE0AHx"
      }
    },
    {
      "cell_type": "markdown",
      "source": [
        "#Metodológia de programación\n",
        "\n",
        "*Diagrama de bloques:* AnyLogic permite construir modelos utilizando diagramas de bloques. En este enfoque, puedes arrastrar y soltar componentes predefinidos, como objetos de simulación, eventos, fuentes de datos, etc., en un lienzo y conectarlos para formar el flujo lógico del modelo. Los bloques representan entidades del sistema y las conexiones representan el flujo de información o eventos entre ellos. Este enfoque visual facilita la construcción y comprensión del modelo.\n",
        "\n",
        "*Programación orientada a objetos:* AnyLogic también permite utilizar programación orientada a objetos (POO) para personalizar y extender los modelos. Puedes definir tus propias clases, métodos y variables para crear componentes personalizados que se adapten a tus necesidades específicas. La POO en AnyLogic se basa en el lenguaje de programación Java, lo que significa que puedes utilizar todas las características y funcionalidades de Java en tus modelos.\n",
        "\n",
        "*Programación basada en agentes:* AnyLogic es conocido por su enfoque en la programación basada en agentes (PBA), que se utiliza para modelar y simular sistemas en los que los agentes individuales tienen comportamientos autónomos. Los agentes son entidades individuales que pueden interactuar entre sí y con el entorno. Puedes definir agentes personalizados con características, comportamientos y reglas específicas. AnyLogic proporciona herramientas y bibliotecas para modelar sistemas basados en agentes de manera eficiente.\n",
        "\n",
        "Además de estos paradigmas de programación, AnyLogic ofrece una amplia gama de bibliotecas y componentes predefinidos que facilitan la construcción de modelos en diferentes dominios, como logística, fabricación, atención médica, transporte, etc. También es posible utilizar datos reales y conectar el modelo con fuentes de datos externas para realizar análisis y validaciones precisas."
      ],
      "metadata": {
        "id": "AOPyCG300JrO"
      }
    },
    {
      "cell_type": "markdown",
      "source": [
        "#Utilidad\n",
        "\n",
        "Podemos expresarlas de la siguiente manera\n",
        "\n",
        "*Modelado y simulación de sistemas complejos:* AnyLogic permite modelar y simular sistemas complejos en una amplia variedad de industrias y dominios. Puedes representar diferentes aspectos de un sistema, incluyendo el comportamiento de los objetos, la interacción entre agentes, el flujo de procesos, las restricciones de recursos y más. Esto te permite comprender mejor el sistema y evaluar diferentes escenarios y estrategias.\n",
        "\n",
        "*Bibliotecas y componentes predefinidos:* AnyLogic proporciona una amplia gama de bibliotecas y componentes predefinidos que te permiten construir modelos de manera más rápida y sencilla. Estas bibliotecas incluyen objetos y funciones específicas para diferentes industrias y aplicaciones, como logística, transporte, fabricación, atención médica, minería, etc. También puedes crear tus propios componentes personalizados para adaptarse a tus necesidades específicas.\n",
        "\n",
        "*Integración de datos y análisis avanzado:* AnyLogic te permite integrar datos reales en tus modelos de simulación, lo que te permite realizar análisis más precisos y validar tus resultados con datos históricos. Puedes importar datos desde diferentes fuentes, como hojas de cálculo, bases de datos y archivos de texto. Además, AnyLogic ofrece herramientas para realizar análisis avanzados, como optimización, análisis de sensibilidad y experimentos de Monte Carlo.\n",
        "\n",
        "*Visualización y presentación de resultados:* AnyLogic proporciona herramientas de visualización avanzadas para representar gráficamente los resultados de tus simulaciones. Puedes crear gráficos interactivos, diagramas de flujo, animaciones y tablas para mostrar los resultados de manera clara y comprensible. Esto facilita la comunicación de tus hallazgos y conclusiones a colegas, clientes y partes interesadas.\n",
        "\n",
        "*Análisis de escenarios y toma de decisiones:* Con AnyLogic, puedes ejecutar múltiples escenarios y comparar los resultados para evaluar diferentes estrategias y tomar decisiones informadas. Puedes ajustar parámetros, cambiar reglas y políticas, y observar cómo afectan al sistema en general. Esto te ayuda a comprender mejor las implicaciones de tus decisiones y optimizar el rendimiento del sistema."
      ],
      "metadata": {
        "id": "Xq3i5VTo0wlp"
      }
    },
    {
      "cell_type": "markdown",
      "source": [
        "#Ejemplo En Python"
      ],
      "metadata": {
        "id": "nKpCucnH1awD"
      }
    },
    {
      "cell_type": "markdown",
      "source": [
        "Instalamos Simpy agregando la siguiente linea de código antes de iniciar a programar"
      ],
      "metadata": {
        "id": "NAxXWe022Vw2"
      }
    },
    {
      "cell_type": "code",
      "execution_count": 1,
      "metadata": {
        "colab": {
          "base_uri": "https://localhost:8080/"
        },
        "id": "opr3r7bav_mM",
        "outputId": "92a636dd-641b-4ef5-de64-63f23f798828"
      },
      "outputs": [
        {
          "output_type": "stream",
          "name": "stdout",
          "text": [
            "Looking in indexes: https://pypi.org/simple, https://us-python.pkg.dev/colab-wheels/public/simple/\n",
            "Collecting simpy\n",
            "  Downloading simpy-4.0.1-py2.py3-none-any.whl (29 kB)\n",
            "Installing collected packages: simpy\n",
            "Successfully installed simpy-4.0.1\n"
          ]
        }
      ],
      "source": [
        "!pip install simpy"
      ]
    },
    {
      "cell_type": "markdown",
      "source": [
        "Importa las bibliotecas necesarias, incluyendo SimPy para la simulación y matplotlib para la visualización de resultados."
      ],
      "metadata": {
        "id": "Dn54jWlW2cby"
      }
    },
    {
      "cell_type": "code",
      "source": [
        "import simpy\n",
        "import random\n",
        "import matplotlib.pyplot as plt"
      ],
      "metadata": {
        "id": "wndEYR7R2e9H"
      },
      "execution_count": 2,
      "outputs": []
    },
    {
      "cell_type": "markdown",
      "source": [
        "Define la clase SupermarketModel que representará el modelo de simulación del supermercado. Esta clase contendrá los eventos y procesos necesarios para simular la llegada y el servicio de los clientes."
      ],
      "metadata": {
        "id": "_WGykkwi2jEt"
      }
    },
    {
      "cell_type": "code",
      "source": [
        "class SupermarketModel:\n",
        "    def __init__(self, env, arrival_rate, service_time):\n",
        "        self.env = env\n",
        "        self.arrival_rate = arrival_rate\n",
        "        self.service_time = service_time\n",
        "        self.customers = []\n",
        "        self.waiting_times = []\n",
        "\n",
        "    def customer_arrival(self):\n",
        "        while True:\n",
        "            yield self.env.timeout(random.expovariate(self.arrival_rate))\n",
        "            customer = self.env.process(self.customer_service())\n",
        "            self.customers.append(customer)\n",
        "\n",
        "    def customer_service(self):\n",
        "        arrival_time = self.env.now\n",
        "        with self.cashier.request() as request:\n",
        "            yield request\n",
        "            yield self.env.timeout(random.expovariate(1 / self.service_time))\n",
        "        departure_time = self.env.now\n",
        "        waiting_time = departure_time - arrival_time\n",
        "        self.waiting_times.append(waiting_time)\n",
        "\n",
        "    def run_simulation(self, sim_time):\n",
        "        self.env = simpy.Environment()\n",
        "        self.cashier = simpy.Resource(self.env, capacity=1)\n",
        "        self.env.process(self.customer_arrival())\n",
        "        self.env.run(until=sim_time)\n"
      ],
      "metadata": {
        "id": "8YlbPd4w2lxL"
      },
      "execution_count": 3,
      "outputs": []
    },
    {
      "cell_type": "markdown",
      "source": [
        "Configura los parámetros de la simulación, como la tasa de llegada de clientes y el tiempo de servicio promedio, y luego ejecuta la simulación durante un tiempo determinado."
      ],
      "metadata": {
        "id": "IWu-G4dL2tqo"
      }
    },
    {
      "cell_type": "code",
      "source": [
        "    # Configuración de parámetros\n",
        "    arrival_rate = 0.3  # Tasa de llegada de clientes (clientes por minuto)\n",
        "    service_time = 2.0  # Tiempo de servicio promedio (minutos)\n",
        "    simulation_time = 60  # Tiempo de simulación (minutos)\n",
        "\n",
        "    # Crear y ejecutar el modelo de simulación\n",
        "    model = SupermarketModel(simpy.Environment(), arrival_rate, service_time)\n",
        "    model.run_simulation(simulation_time)"
      ],
      "metadata": {
        "id": "KRzhEeY82uoF"
      },
      "execution_count": 4,
      "outputs": []
    },
    {
      "cell_type": "markdown",
      "source": [
        "Visualiza los resultados de la simulación, como los tiempos de espera en la cola, utilizando un histograma."
      ],
      "metadata": {
        "id": "4dPo7BPb21zO"
      }
    },
    {
      "cell_type": "code",
      "source": [
        " # Visualizar los resultados\n",
        "plt.hist(model.waiting_times, bins=range(10), color = 'red')\n",
        "plt.xlabel('Tiempo de espera en la cola (minutos)')\n",
        "plt.ylabel('Frecuencia')\n",
        "plt.title('Distribución de tiempos de espera en la cola')\n",
        "plt.show()"
      ],
      "metadata": {
        "colab": {
          "base_uri": "https://localhost:8080/",
          "height": 472
        },
        "id": "5V0PEidh24Z6",
        "outputId": "1def5f0b-26f8-48ea-c70a-4a351873eb65"
      },
      "execution_count": 7,
      "outputs": [
        {
          "output_type": "display_data",
          "data": {
            "text/plain": [
              "<Figure size 640x480 with 1 Axes>"
            ],
            "image/png": "[encoded data removed]"
          },
          "metadata": {}
        }
      ]
    },
    {
      "cell_type": "markdown",
      "source": [
        "En este ejemplo, el modelo de simulación del supermercado utiliza la biblioteca SimPy para simular la llegada y el servicio de los clientes. Se genera una tasa de llegada de clientes aleatoria mediante una distribución exponencial, y se simula el tiempo de servicio utilizando una distribución exponencial inversa. Se registra el tiempo de espera de cada cliente en la cola y se visualiza la distribución de los tiempos de espera utilizando un histograma."
      ],
      "metadata": {
        "id": "ndpJzcBA3QxJ"
      }
    },
    {
      "cell_type": "markdown",
      "source": [
        "#Simulación AnyLogic\n",
        "\n",
        "*Configuración del modelo*\n",
        "\n",
        "1. Abrimos AnyLogic y crea un nuevo modelo de simulación.\n",
        "2. Definimos los parámetros del modelo, como la tasa de llegada de clientes y el tiempo de servicio promedio.\n",
        "3. Agregamos los elementos gráficos necesarios para representar el supermercado, como áreas de espera y cajas registradoras.\n",
        "\n",
        "*Creación del agente \"Cliente\"*\n",
        "\n",
        "1. Creamos un nuevo agente llamado \"Cliente\" que representará a cada cliente individual en el supermercado.\n",
        "2. Definimos las características del agente \"Cliente\", como su tiempo de llegada, tiempo de servicio, tiempo de espera, etc.\n",
        "3. Podemos utilizar variables en el agente para realizar un seguimiento de la información relevante de cada cliente.\n",
        "\n",
        "*Generación de clientes*\n",
        "\n",
        "1. Utilizamos elementos de generación de eventos en el modelo para simular la llegada de clientes al supermercado.\n",
        "2. Configuramos el generador de eventos para generar clientes en intervalos de tiempo aleatorios o siguiendo una distribución específica.\n",
        "3. Al generar un nuevo cliente, crea una instancia del agente \"Cliente\" y configura su tiempo de llegada al supermercado.\n",
        "\n",
        "*Proceso de servicio*\n",
        "\n",
        "1. Utilizamos elementos de procesamiento en el modelo para simular el servicio de los clientes en las cajas registradoras.\n",
        "2. Configuramos el tiempo de servicio de cada cliente utilizando una distribución aleatoria o específica.\n",
        "3. Utilizamos colas y recursos en el modelo para gestionar el flujo de clientes hacia las cajas registradoras.\n",
        "\n",
        "*Recopilación de datos y análisis*\n",
        "\n",
        "1. Utilizaos elementos de recopilación de datos en el modelo para capturar métricas relevantes, como el tiempo de espera de cada cliente en la cola.\n",
        "2. Agregamos gráficos y estadísticas en tiempo real para visualizar y analizar los datos recopilados durante la simulación.\n",
        "3. Experimentamos con diferentes configuraciones y parámetros para optimizar la eficiencia operativa del supermercado."
      ],
      "metadata": {
        "id": "dTzqLu2z-WNf"
      }
    }
  ]
}