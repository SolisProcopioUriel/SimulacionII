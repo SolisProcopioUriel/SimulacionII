{
  "nbformat": 4,
  "nbformat_minor": 0,
  "metadata": {
    "colab": {
      "provenance": [],
      "authorship_tag": "ABX9TyPbTvgWLYWq98Zg8YfHunX8",
      "include_colab_link": true
    },
    "kernelspec": {
      "name": "python3",
      "display_name": "Python 3"
    },
    "language_info": {
      "name": "python"
    }
  },
  "cells": [
    {
      "cell_type": "markdown",
      "metadata": {
        "id": "view-in-github",
        "colab_type": "text"
      },
      "source": [
        "<a href=\"https://colab.research.google.com/github/SolisProcopioUriel/SimulacionII/blob/main/Ejercicio_26_reemplazo_de_herramientas.ipynb\" target=\"_parent\"><img src=\"https://colab.research.google.com/assets/colab-badge.svg\" alt=\"Open In Colab\"/></a>"
      ]
    },
    {
      "cell_type": "markdown",
      "source": [
        "#**Nombre: Solis Procopio Uriel**\n"
      ],
      "metadata": {
        "id": "HxTs2CD1vuaV"
      }
    },
    {
      "cell_type": "markdown",
      "source": [
        "**Ejercicio 26:** Una empresa dispone de varias maquinas herramienta cuya herramienta de corte se desgastan cosntantemente. Cuando esto ocurre, la máquina es inservible. En la actualidad el mantenimiento es correvtivo reemplazandose una herramienta cuando falla. Dado que cada máquina dispone de una torre de cinco herramientas, se propone reemplzar toda la torre de herramientas(las cinco herramientas de golpe) cada vez que falle una, lo que deberia reducir la frecuencia de desgaste de las herramientas. El tiempo necesaario para el reemplazo de una herramienta es de una hora. La cinco pueden reemplzarse en dos horas. El costo de una hora de máquina parada es de cien euros. Cada herramienta cuesta diez euros. La tabla siguiente recoge los datos de averías en el caso de sustituir una sola herramienta cada vez.\n",
        "\n",
        "  |Horas entre averías si sustituye una herramienta| 20 | 30 | 40 | 50 | 60 | 70 | 80 |\n",
        "  |---|---|---|---|---|---|---|---|\n",
        "  |Probabilidad|0.05 |0.15 | 0.15| 0.20 | 0.20 | 0.15 | 0.10|\n",
        "  |F(x)|0.05|0.20|0.35|0.55|0.75|0.90|1.0|\n",
        "  |Intervalo| 0 a 0.04|0.05 a 0.19 | 0.20 a 0.34 | 0.35 a 0.54| 0.55 a 0.74| 0.75 a 0.89| 0.90 a 1|\n",
        "\n",
        "  Si las cinco herramientas se cambian cada vez que una falla, la distribución de probabilidad entre fallos es la siguiente\n",
        "\n",
        "  |Horas entre averías si sustituye una herramienta| 30 | 40 | 50 | 60 | 70 | 80 | 90 |\n",
        "  |---|---|---|---|---|---|---|---|\n",
        "  |Probabilidad|0.05 |0.15 | 0.15| 0.20 | 0.20 | 0.15 | 0.10|\n",
        "  |F(x)|0.05|0.20|0.35|0.55|0.75|0.90|1.0|\n",
        "  |Intervalo| 0 a 0.04|0.05 a 0.19 | 0.20 a 0.34 | 0.35 a 0.54| 0.55 a 0.74| 0.75 a 0.89| 0.90 a 1|\n",
        "\n",
        "  (a) Determine mediante simulación la mejor politica de reemplazo de las herramientas de corte\n"
      ],
      "metadata": {
        "id": "aw8iqabXv4Ev"
      }
    },
    {
      "cell_type": "markdown",
      "source": [
        "#**Simulación de la primera tabla**: cuando solo se remplaza una pieza\n"
      ],
      "metadata": {
        "id": "HjaOGx8Ez79a"
      }
    },
    {
      "cell_type": "markdown",
      "source": [
        "**Paso 1:**  Definir variables\n",
        "\n",
        "  x = costo final de todas las averías "
      ],
      "metadata": {
        "id": "znlHS-w9U2Pv"
      }
    },
    {
      "cell_type": "markdown",
      "source": [
        "**Paso 2:** Distribución de probabilidad de cada variable\n",
        "\n",
        "  |Horas entre averías si sustituye una herramienta| 20 | 30 | 40 | 50 | 60 | 70 | 80 |\n",
        "  |---|---|---|---|---|---|---|---|\n",
        "  |Probabilidad|0.05 |0.15 | 0.15| 0.20 | 0.20 | 0.15 | 0.10|"
      ],
      "metadata": {
        "id": "AeGKWLZzVedW"
      }
    },
    {
      "cell_type": "markdown",
      "source": [
        "**Paso 3:**  Enumere la distribución acumulada de probabilidades de cada variable\n",
        "\n",
        "  |Horas entre averías si sustituye una herramienta| 20 | 30 | 40 | 50 | 60 | 70 | 80 |\n",
        "  |---|---|---|---|---|---|---|---|\n",
        "  |Probabilidad|0.05 |0.15 | 0.15| 0.20 | 0.20 | 0.15 | 0.10|\n",
        "  |F(x)|0.05|0.20|0.35|0.55|0.75|0.90|1.0|"
      ],
      "metadata": {
        "id": "WoWov_RNWFcO"
      }
    },
    {
      "cell_type": "markdown",
      "source": [
        "**Paso 4:** Establezca el intervalo de números aleatorios correspondientes a cada valor de cada una de las variables\n",
        "\n",
        "  |Horas entre averías si sustituye una herramienta| 20 | 30 | 40 | 50 | 60 | 70 | 80 |\n",
        "  |---|---|---|---|---|---|---|---|\n",
        "  |Probabilidad|0.05 |0.15 | 0.15| 0.20 | 0.20 | 0.15 | 0.10|\n",
        "  |F(x)|0.05|0.20|0.35|0.55|0.75|0.90|1.0|\n",
        "  |Intervalo| 0 a 0.04|0.05 a 0.19 | 0.20 a 0.34 | 0.35 a 0.54| 0.55 a 0.74| 0.75 a 0.89| 0.90 a 1|"
      ],
      "metadata": {
        "id": "xTyobu7BWdiN"
      }
    },
    {
      "cell_type": "markdown",
      "source": [
        "**Paso 5:**  Generar números aleatorios"
      ],
      "metadata": {
        "id": "xsQISm8kWmQi"
      }
    },
    {
      "cell_type": "code",
      "source": [
        "import numpy as np\n",
        "import random\n",
        "import matplotlib.pyplot as plt"
      ],
      "metadata": {
        "id": "ugd2vXpWV9Xm"
      },
      "execution_count": 1,
      "outputs": []
    },
    {
      "cell_type": "code",
      "source": [
        "# Datos de entrada\n",
        "horas_averia = [20, 30, 40, 50, 60, 70, 80]\n",
        "probabilidad = [0.05, 0.15, 0.15, 0.20, 0.20, 0.15, 0.10]\n",
        "costo_pieza = 10 #costo en euros de cada pieza\n",
        "costo_parada = 100 #costo en euros de que este parada durante una hora\n",
        "cambio_individual = 1  # Horas para cambiar una sola pieza\n",
        "cambio_lote = 2  # Horas para cambiar todo el lote de 5 piezas"
      ],
      "metadata": {
        "id": "nLzCgQWFWvTC"
      },
      "execution_count": 2,
      "outputs": []
    },
    {
      "cell_type": "code",
      "source": [
        "# Función para determinar el tiempo entre averías\n",
        "def tiempo_entre_averias(horas_averia, probabilidad):\n",
        "    r = random.uniform(0,1) # Se genera un número aleatorio entre 0 y 1\n",
        "    f_x = 0 # Se inicia la variable f_x en 0\n",
        "    # Se itera a través de los intervalos de horas de avería\n",
        "    for i in range(len(horas_averia)):  \n",
        "        f_x += probabilidad[i] # Se acumula la probabilidad  al intervalo actual\n",
        "        if r <= f_x: # Si el número aleatorio generado es menor o igual a la probabilidad acumulada \n",
        "          return horas_averia[i] # se devuelve el valor correspondiente al intervalo actual"
      ],
      "metadata": {
        "id": "rA5krgJcW2z2"
      },
      "execution_count": 3,
      "outputs": []
    },
    {
      "cell_type": "markdown",
      "source": [
        "**Paso 6:** Simulamos una corrida"
      ],
      "metadata": {
        "id": "60rqUo4bXMws"
      }
    },
    {
      "cell_type": "code",
      "source": [
        "# Simulación de una hora de operación de la máquina\n",
        "def operacion_maquina(cambio_individual, cambio_lote, costo_pieza, costo_parada):\n",
        "    tiempo = tiempo_entre_averias(horas_averia, probabilidad) # Determinar el tiempo entre averías\n",
        "    costo_individual = costo_pieza + costo_parada/cambio_individual   # Calcular costo de una avería y cambio individual de pieza\n",
        "    costo_lote = 5*costo_pieza + costo_parada/cambio_lote # Calcular costo de cinco averías y cambio de lote completo de piezas\n",
        "\n",
        "    # Calcular costo total a pagar por hora de máquina parada\n",
        "    if tiempo < cambio_lote:\n",
        "        costo_total = costo_lote\n",
        "    else:\n",
        "        costo_total = costo_individual*(tiempo//cambio_individual) + costo_lote*(tiempo//cambio_lote)\n",
        "        if tiempo % cambio_individual != 0:\n",
        "            costo_total += costo_individual\n",
        "    return costo_total"
      ],
      "metadata": {
        "id": "R7JocypfW7UN"
      },
      "execution_count": 4,
      "outputs": []
    },
    {
      "cell_type": "code",
      "source": [
        "operacion_maquina(1,2,10,100) #Consideramos los parametros que nos da el ejercicio"
      ],
      "metadata": {
        "colab": {
          "base_uri": "https://localhost:8080/"
        },
        "id": "mobYRA2HW-mr",
        "outputId": "80721ead-52c6-4e55-f7e3-f91642fed9c5"
      },
      "execution_count": 21,
      "outputs": [
        {
          "output_type": "execute_result",
          "data": {
            "text/plain": [
              "6400.0"
            ]
          },
          "metadata": {},
          "execution_count": 21
        }
      ]
    },
    {
      "cell_type": "code",
      "source": [
        "#simulamos n veces nuestro experimento\n",
        "def simulacion(n):\n",
        "    L=[]  # Lista vacía que contendrá los resultados de cada simulación\n",
        "    costo_final = 0  # Inicializar el costo final en 0\n",
        "    for i in range(n):\n",
        "        costo_final += operacion_maquina(1,2,10,100) # Realizar una operación de la máquina y sumar el costo\n",
        "        L.append(costo_final/(i+1)) # Calcular el costo promedio y agregarlo a la lista L\n",
        "    return L  #Devolver la lista de resultados"
      ],
      "metadata": {
        "id": "ybOKg0saXDMX"
      },
      "execution_count": 22,
      "outputs": []
    },
    {
      "cell_type": "code",
      "source": [
        "X = simulacion(600) #hacemos 1000 veces la simuación"
      ],
      "metadata": {
        "id": "hZJ5cvOUXg1q"
      },
      "execution_count": 23,
      "outputs": []
    },
    {
      "cell_type": "markdown",
      "source": [
        "**Paso 7:** Obtenga la gráfica de la estabilización que indica que el tamaño de muestra utilizado es suficiente para generalizar la convergencia del resultado."
      ],
      "metadata": {
        "id": "4pN962vgXbgI"
      }
    },
    {
      "cell_type": "code",
      "source": [
        "plt.plot(X, color = \"red\") #Gráficar\n",
        "plt.xlabel('iteraciones') #Etiqueta del eje de las x\n",
        "plt.ylabel('costo total') #Etiqueta del eje de las y\n",
        "plt.show() #Mostrar la gráfica"
      ],
      "metadata": {
        "colab": {
          "base_uri": "https://localhost:8080/",
          "height": 449
        },
        "id": "Z5du4omxXlLZ",
        "outputId": "5a0c7c11-e7ed-4103-d29c-1699b2b7e40d"
      },
      "execution_count": 24,
      "outputs": [
        {
          "output_type": "display_data",
          "data": {
            "text/plain": [
              "<Figure size 640x480 with 1 Axes>"
            ],
            "image/png": "[encoded data removed]"
          },
          "metadata": {}
        }
      ]
    },
    {
      "cell_type": "code",
      "source": [
        "np.mean(X) #calculamos la media del costo final"
      ],
      "metadata": {
        "colab": {
          "base_uri": "https://localhost:8080/"
        },
        "id": "yf4zXPa6Xw1E",
        "outputId": "0e0a92e5-7a96-449c-c2ea-092ae22809fe"
      },
      "execution_count": 25,
      "outputs": [
        {
          "output_type": "execute_result",
          "data": {
            "text/plain": [
              "8183.236474094462"
            ]
          },
          "metadata": {},
          "execution_count": 25
        }
      ]
    },
    {
      "cell_type": "markdown",
      "source": [
        "**Paso 8:** Replique el modelo"
      ],
      "metadata": {
        "id": "AA26p2xzX2Ng"
      }
    },
    {
      "cell_type": "code",
      "source": [
        "#Repetimos el modelo n veces\n",
        "def modelo(n):\n",
        "    lista=[]\n",
        "    for i in range(n):\n",
        "        s = simulacion(600) # Realizamos la para calcual el costo 600 veces\n",
        "        lista.append(np.mean(s)) # Agregamos la media de los beneficios obtenidos en la lista\n",
        "    return lista"
      ],
      "metadata": {
        "id": "GwOMa3w6X6tB"
      },
      "execution_count": 26,
      "outputs": []
    },
    {
      "cell_type": "code",
      "source": [
        "Y=modelo(200) # Asignamos valores a n "
      ],
      "metadata": {
        "id": "GLz8O2jjX-PX"
      },
      "execution_count": 31,
      "outputs": []
    },
    {
      "cell_type": "code",
      "source": [
        "plt.hist(Y, color = \"red\") #Gráficamos un histograma \n",
        "plt.show()#mostramos la gráfica"
      ],
      "metadata": {
        "colab": {
          "base_uri": "https://localhost:8080/",
          "height": 430
        },
        "id": "b-HVj8lXYKys",
        "outputId": "43a6bcaa-8ee7-4738-b597-84878f92e72f"
      },
      "execution_count": 32,
      "outputs": [
        {
          "output_type": "display_data",
          "data": {
            "text/plain": [
              "<Figure size 640x480 with 1 Axes>"
            ],
            "image/png": "[encoded data removed]"
          },
          "metadata": {}
        }
      ]
    },
    {
      "cell_type": "markdown",
      "source": [
        "**Paso 9:** Calculamos la media y la desviación estandar"
      ],
      "metadata": {
        "id": "VmTd1TZ6YNJF"
      }
    },
    {
      "cell_type": "code",
      "source": [
        "print(np.mean(Y), np.std(Y)) #imprimimos la media y la desviación estandar"
      ],
      "metadata": {
        "colab": {
          "base_uri": "https://localhost:8080/"
        },
        "id": "vpSXg2TNYSga",
        "outputId": "83a7f412-4a2b-4cc0-c3f3-f9d7beb65290"
      },
      "execution_count": 33,
      "outputs": [
        {
          "output_type": "stream",
          "name": "stdout",
          "text": [
            "8327.020659192236 151.17432590075717\n"
          ]
        }
      ]
    },
    {
      "cell_type": "markdown",
      "source": [
        "**Paso 10:** Hallamos el intervalo de confianza"
      ],
      "metadata": {
        "id": "XV7AhWlvYXjW"
      }
    },
    {
      "cell_type": "code",
      "source": [
        "np.mean(Y) - 1.96*np.std(Y)/np.sqrt(50), np.mean(Y) + 1.96*np.std(Y)/np.sqrt(50) #Calculamos el intervalo de confinza"
      ],
      "metadata": {
        "colab": {
          "base_uri": "https://localhost:8080/"
        },
        "id": "QmW3uSJPYeI5",
        "outputId": "4ee22ae2-cc13-444f-da82-24328f405e01"
      },
      "execution_count": 34,
      "outputs": [
        {
          "output_type": "execute_result",
          "data": {
            "text/plain": [
              "(8285.117273925829, 8368.924044458643)"
            ]
          },
          "metadata": {},
          "execution_count": 34
        }
      ]
    },
    {
      "cell_type": "markdown",
      "source": [
        "#**Simulación de la segunda tabla:**cuando se reemplazan todas las piezas"
      ],
      "metadata": {
        "id": "hR1y0OKpZxJs"
      }
    },
    {
      "cell_type": "markdown",
      "source": [
        "**Paso 1:** Definir variables\n",
        "\n",
        "x = costo final de todas las averías"
      ],
      "metadata": {
        "id": "oJivC-YmaB-Q"
      }
    },
    {
      "cell_type": "markdown",
      "source": [
        "**Paso 2:** Distribución de probabilidad de cada variable\n",
        "\n",
        "  |Horas entre averías si sustituye una herramienta| 30 | 40 | 50 | 60 | 70 | 80 | 90 |\n",
        "  |---|---|---|---|---|---|---|---|\n",
        "  |Probabilidad|0.05 |0.15 | 0.15| 0.20 | 0.20 | 0.15 | 0.10|"
      ],
      "metadata": {
        "id": "ofg29D8HaKcO"
      }
    },
    {
      "cell_type": "markdown",
      "source": [
        "**Paso 3:**  Enumere la distribución acumulada de probabilidades de cada variable\n",
        "\n",
        "  |Horas entre averías si sustituye una herramienta| 30 | 40 | 50 | 60 | 70 | 80 | 90 |\n",
        "  |---|---|---|---|---|---|---|---|\n",
        "  |Probabilidad|0.05 |0.15 | 0.15| 0.20 | 0.20 | 0.15 | 0.10|\n",
        "  |F(x)|0.05|0.20|0.35|0.55|0.75|0.90|1.0|"
      ],
      "metadata": {
        "id": "_bT2LHukaZ7t"
      }
    },
    {
      "cell_type": "markdown",
      "source": [
        "**Paso 4:** Establezca el intervalo de números aleatorios correspondientes a cada valor de cada una de las variables\n",
        "\n",
        "  |Horas entre averías si sustituye una herramienta| 30 | 40 | 50 | 60 | 70 | 80 | 90 |\n",
        "  |---|---|---|---|---|---|---|---|\n",
        "  |Probabilidad|0.05 |0.15 | 0.15| 0.20 | 0.20 | 0.15 | 0.10|\n",
        "  |F(x)|0.05|0.20|0.35|0.55|0.75|0.90|1.0|\n",
        "  |Intervalo| 0 a 0.04|0.05 a 0.19 | 0.20 a 0.34 | 0.35 a 0.54| 0.55 a 0.74| 0.75 a 0.89| 0.90 a 1|"
      ],
      "metadata": {
        "id": "iWMd7sQHakHx"
      }
    },
    {
      "cell_type": "markdown",
      "source": [
        "**Paso 5:**  Generar números aleatorios"
      ],
      "metadata": {
        "id": "5fyUUqU3auQU"
      }
    },
    {
      "cell_type": "code",
      "source": [
        "import numpy as np\n",
        "import random\n",
        "import matplotlib.pyplot as plt"
      ],
      "metadata": {
        "id": "Ly5W1keSavIO"
      },
      "execution_count": 35,
      "outputs": []
    },
    {
      "cell_type": "code",
      "source": [
        "# Datos de entrada\n",
        "horas_averia = [30, 40, 50, 60, 70, 80, 90]\n",
        "probabilidad = [0.10, 0.10, 0.20, 0.20, 0.20, 0.15, 0.05]\n",
        "costo_pieza = 10 #costo en euros de cada pieza\n",
        "costo_parada = 100 #costo en euros de que este parada durante una hora\n",
        "cambio_lote = 2  # Horas para cambiar todo el lote de 5 piezas"
      ],
      "metadata": {
        "id": "uTc592rMfvmZ"
      },
      "execution_count": 36,
      "outputs": []
    },
    {
      "cell_type": "code",
      "source": [
        "# Función para determinar el tiempo entre averías\n",
        "def tiempo_entre_averias(horas_averia, probabilidad):\n",
        "    r = random.uniform(0,1) #se genera un número aleatorio entre 0 y 1 \n",
        "    f_x = 0 #se inicia la variable f_x en 0\n",
        "    #se itera a través de los intervalos de horas de avería \n",
        "    for i in range(len(horas_averia)): \n",
        "        f_x += probabilidad[i] #se acumula la probabilidad al intervalo actual\n",
        "        if r <= f_x: #Si el numero aleatorio generado es menor o igual a la probabilidad acumulada\n",
        "            return horas_averia[i] #se devuelve el valor cprrespondiente al intervalo actual"
      ],
      "metadata": {
        "id": "4gsOTIUmfzre"
      },
      "execution_count": 37,
      "outputs": []
    },
    {
      "cell_type": "markdown",
      "source": [
        "**Paso 6:** Simulamos una corrida"
      ],
      "metadata": {
        "id": "ffAMzI8Jf6G_"
      }
    },
    {
      "cell_type": "code",
      "source": [
        "#Simulación de una hora de operación de la maquina\n",
        "def operacion_maquina(cambio_lote, costo_pieza, costo_parada):\n",
        "    tiempo = tiempo_entre_averias(horas_averia, probabilidad)  # Determinar el tiempo entre averías\n",
        "    costo_lote = 5*costo_pieza + costo_parada/cambio_lote # Calcular costo de cinco averías y cambio de lote completo de piezas\n",
        "    \n",
        "    # Calcular costo total a pagar por hora de máquina parada\n",
        "    if tiempo < cambio_lote:\n",
        "        costo_total = costo_lote\n",
        "    else:\n",
        "        costo_total = costo_lote*(tiempo//cambio_lote)\n",
        "        if tiempo % cambio_lote != 0:\n",
        "            costo_total += costo_lote\n",
        "    return costo_total"
      ],
      "metadata": {
        "id": "kG8ziid6f8fD"
      },
      "execution_count": 39,
      "outputs": []
    },
    {
      "cell_type": "code",
      "source": [
        "operacion_maquina(2,10,100) #Consideramos los parametros que nos da el ejercicio"
      ],
      "metadata": {
        "colab": {
          "base_uri": "https://localhost:8080/"
        },
        "id": "Fqr9yF0WgqTr",
        "outputId": "debf5079-e2c4-4158-9dce-20b3e2a9cb0c"
      },
      "execution_count": 40,
      "outputs": [
        {
          "output_type": "execute_result",
          "data": {
            "text/plain": [
              "3500.0"
            ]
          },
          "metadata": {},
          "execution_count": 40
        }
      ]
    },
    {
      "cell_type": "code",
      "source": [
        "#simulamos n veces nuestro experimento\n",
        "def simulacion(n):\n",
        "    L=[]  # Lista vacía que contendrá los resultados de cada simulación\n",
        "    costo_final = 0  # Inicializar el costo final en 0\n",
        "    for i in range(n):\n",
        "        costo_final += operacion_maquina(2,10,100) # Realizar una operación de la máquina y sumar el costo\n",
        "        L.append(costo_final/(i+1)) # Calcular el costo promedio y agregarlo a la lista L\n",
        "    return L  #Devolver la lista de resultados"
      ],
      "metadata": {
        "id": "BhpzwvTkgt_Z"
      },
      "execution_count": 41,
      "outputs": []
    },
    {
      "cell_type": "code",
      "source": [
        "X = simulacion(600) #hacemos 1000 veces la simuación"
      ],
      "metadata": {
        "id": "GtFOj_W5gwit"
      },
      "execution_count": 53,
      "outputs": []
    },
    {
      "cell_type": "markdown",
      "source": [
        "**Paso 7:** Obtenga la gráfica de la estabilización que indica que el tamaño de muestra utilizado es suficiente para generalizar la convergencia del resultado."
      ],
      "metadata": {
        "id": "TnpgxdSNg7uF"
      }
    },
    {
      "cell_type": "code",
      "source": [
        "plt.plot(X, color = \"red\") #Gráficar\n",
        "plt.xlabel('iteraciones') #Etiqueta del eje de las x\n",
        "plt.ylabel('costo total') #Etiqueta del eje de las y\n",
        "plt.show() #Mostrar la gráfica"
      ],
      "metadata": {
        "colab": {
          "base_uri": "https://localhost:8080/",
          "height": 449
        },
        "id": "k2TWv0eDg_gK",
        "outputId": "d0fbf3a3-3f02-4e74-cec8-943d4a22b36a"
      },
      "execution_count": 54,
      "outputs": [
        {
          "output_type": "display_data",
          "data": {
            "text/plain": [
              "<Figure size 640x480 with 1 Axes>"
            ],
            "image/png": "[encoded data removed]"
          },
          "metadata": {}
        }
      ]
    },
    {
      "cell_type": "code",
      "source": [
        "np.mean(X) #calculamos la media del costo final"
      ],
      "metadata": {
        "colab": {
          "base_uri": "https://localhost:8080/"
        },
        "id": "beNQ2d56hajz",
        "outputId": "a9116dea-dffb-4ed8-9158-3dff282d98ef"
      },
      "execution_count": 55,
      "outputs": [
        {
          "output_type": "execute_result",
          "data": {
            "text/plain": [
              "3015.455530210298"
            ]
          },
          "metadata": {},
          "execution_count": 55
        }
      ]
    },
    {
      "cell_type": "markdown",
      "source": [
        "**Paso 8:** Replique el modelo"
      ],
      "metadata": {
        "id": "tx-5ZD-Shhyn"
      }
    },
    {
      "cell_type": "code",
      "source": [
        "#Repetimos el modelo n veces\n",
        "def modelo(n):\n",
        "    lista=[]\n",
        "    for i in range(n):\n",
        "        s = simulacion(600) # Realizamos la para calcual el costo 600 veces\n",
        "        lista.append(np.mean(s)) # Agregamos la media de los beneficios obtenidos en la lista\n",
        "    return lista"
      ],
      "metadata": {
        "id": "-RghEJ7XhkOS"
      },
      "execution_count": 56,
      "outputs": []
    },
    {
      "cell_type": "code",
      "source": [
        "Y=modelo(200) # Asignamos valores a n "
      ],
      "metadata": {
        "id": "8ZDW1j5Ghqan"
      },
      "execution_count": 57,
      "outputs": []
    },
    {
      "cell_type": "code",
      "source": [
        "plt.hist(Y, color = \"red\") #Gráficamos un histograma \n",
        "plt.show()#mostramos la gráfica"
      ],
      "metadata": {
        "colab": {
          "base_uri": "https://localhost:8080/",
          "height": 430
        },
        "id": "xO9euV8KhtUO",
        "outputId": "9ee4a140-b4c5-40db-9d39-4e7c0ee0f59c"
      },
      "execution_count": 58,
      "outputs": [
        {
          "output_type": "display_data",
          "data": {
            "text/plain": [
              "<Figure size 640x480 with 1 Axes>"
            ],
            "image/png": "[encoded data removed]"
          },
          "metadata": {}
        }
      ]
    },
    {
      "cell_type": "markdown",
      "source": [
        "**Paso 9:** Calculamos la media y la desviación estandar"
      ],
      "metadata": {
        "id": "5uGBCdGQh0cR"
      }
    },
    {
      "cell_type": "code",
      "source": [
        "print(np.mean(Y), np.std(Y)) #imprimimos la media y la desviación estandar"
      ],
      "metadata": {
        "colab": {
          "base_uri": "https://localhost:8080/"
        },
        "id": "GosLeGaYiAPl",
        "outputId": "bb65e53a-13fa-4a97-aaaf-e3a0c31fd309"
      },
      "execution_count": 59,
      "outputs": [
        {
          "output_type": "stream",
          "name": "stdout",
          "text": [
            "2973.20421649598 46.04624525646799\n"
          ]
        }
      ]
    },
    {
      "cell_type": "markdown",
      "source": [
        "**Paso 10:** Calculamos el intervalo de confianza"
      ],
      "metadata": {
        "id": "VBFkoXSOh2-U"
      }
    },
    {
      "cell_type": "code",
      "source": [
        "np.mean(Y) - 1.96*np.std(Y)/np.sqrt(50), np.mean(Y) + 1.96*np.std(Y)/np.sqrt(50)"
      ],
      "metadata": {
        "colab": {
          "base_uri": "https://localhost:8080/"
        },
        "id": "BIY35BGqiBNm",
        "outputId": "b72bb8a4-1e15-44e2-b4c7-e35eb556606d"
      },
      "execution_count": 60,
      "outputs": [
        {
          "output_type": "execute_result",
          "data": {
            "text/plain": [
              "(2960.440848486521, 2985.9675845054385)"
            ]
          },
          "metadata": {},
          "execution_count": 60
        }
      ]
    },
    {
      "cell_type": "markdown",
      "source": [
        "#**Concusión**"
      ],
      "metadata": {
        "id": "4zLJxiIXiKLA"
      }
    },
    {
      "cell_type": "markdown",
      "source": [
        "Considerando los mismo parametros para las dos simulaciones tendremos que el costo media para cuando se **reemplaza una sola pieza** es de **8143 €** mientras para cuado **reemplazamos todas las piezas** es de **3015 €**\n",
        "\n",
        "Entonces podemos concluir que es mucho mejor la politica de remplazar todas la piezas en un solo lote aún cuando se haya averiado una sola pieza."
      ],
      "metadata": {
        "id": "IgghTLgTiO3a"
      }
    }
  ]
}