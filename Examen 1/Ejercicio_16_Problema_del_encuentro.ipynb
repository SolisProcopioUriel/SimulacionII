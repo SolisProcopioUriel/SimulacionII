{
  "nbformat": 4,
  "nbformat_minor": 0,
  "metadata": {
    "colab": {
      "provenance": [],
      "include_colab_link": true
    },
    "kernelspec": {
      "name": "python3",
      "display_name": "Python 3"
    },
    "language_info": {
      "name": "python"
    }
  },
  "cells": [
    {
      "cell_type": "markdown",
      "metadata": {
        "id": "view-in-github",
        "colab_type": "text"
      },
      "source": [
        "<a href=\"https://colab.research.google.com/github/SolisProcopioUriel/SimulacionII/blob/main/Ejercicio_16_Problema_del_encuentro.ipynb\" target=\"_parent\"><img src=\"https://colab.research.google.com/assets/colab-badge.svg\" alt=\"Open In Colab\"/></a>"
      ]
    },
    {
      "cell_type": "markdown",
      "source": [
        "#**Nombre: Solis Procopio Uriel**"
      ],
      "metadata": {
        "id": "gQkjRO9ofJJV"
      }
    },
    {
      "cell_type": "markdown",
      "source": [
        "**Problema 16:** Dos personas han quedado citadas en un determinado lugar. Ambos tienen la misma probabilidad de llegar al lugar de la cita en el intevalo de tiempo $[0,30]$.\n",
        "\n",
        "Determínese la probabilidad de que el tiempo que una persona espere a la otra sea como másximo 10.\n",
        "\n",
        "Resolver:\n",
        "\n",
        "a) Por simulación\n",
        "\n",
        "b) Analíticamente\n"
      ],
      "metadata": {
        "id": "8kuFAPI0fWm5"
      }
    },
    {
      "cell_type": "markdown",
      "source": [
        "#**Analíticamente**\n"
      ],
      "metadata": {
        "id": "ZIXWxi5Mghjq"
      }
    },
    {
      "cell_type": "markdown",
      "source": [
        "Consideremos a $X$ como la variable aleatoria la cual representa el tiempo que tarda una persona en llegar al lugar de la cita.\n",
        "\n",
        "Consideremos a $Y$ como la variable aleatoria que representa el tiempo que tarda la otra persona en llegar al lugar de la cita.\n",
        "\n",
        "Como las dos personas tienen la misma probabilidad de llegar en cualquier momento de nuestro intervalo $[0,30]$ podemos intuir que $X$ e $Y$ son variables aleatorias uniformes en $[0,30]$\n",
        "\n",
        "Ahora el problema que se nos presenta tiene que tener una condición y que al momento de que la primera persona llega tiene que esperar a lo más 10 minutos a que llegue la segunda persona al lugar de la cita, entonces si consideramos un caso particular donde la persona llega supongamos al minuto 5, entonces la segunda persona no puede llegar antes de los 5 minutos y no puede pasar del minuto 15 para llegar.\n",
        "\n",
        "Entonces queremos calcular la probabilidad de que la primera persona( denotada por $X$), espere a la segunda persona(denotada por $Y$), entonces eso podemos verlo como\n",
        "\n",
        "  \\begin{equation}\n",
        "    X < Y\n",
        "  \\end{equation}\n",
        "\n",
        "Pero también queremos que el tiempo de espera sea como máximo 10 minutos, entoces podemos verlo como\n",
        "\n",
        "  \n",
        "\n"
      ],
      "metadata": {
        "id": "n0ccEZoLgqsE"
      }
    },
    {
      "cell_type": "markdown",
      "source": [
        "Consideremos a $X$ como la variable aleatoria la cual representa el tiempo que tarda una persona en llegar al lugar de la cita.\n",
        "\n",
        "Consideremos a $Y$ como la variable aleatoria que representa el tiempo que tarda la otra persona en llegar al lugar de la cita.\n",
        "\n",
        "Como las dos personas tienen la misma probabilidad de llegar en cualquier momento de nuestro intervalo $[0,30]$ podemos intuir que $X$ e $Y$ son variables aleatorias uniformes en $[0,30]$\n",
        "\n",
        "Ahora el problema que se nos presenta tiene que tener una condición y que al momento de que la primera persona llega tiene que esperar a lo más 10 minutos a que llegue la segunda persona al lugar de la cita, entonces si consideramos un caso particular donde la persona llega supongamos al minuto 5, entonces la segunda persona no puede llegar antes de los 5 minutos y no puede pasar del minuto 15 para llegar.\n",
        "\n",
        "Entonces queremos calcular la probabilidad de que la primera persona( denotada por $X$), espere a la segunda persona(denotada por $Y$), entonces eso podemos verlo como\n",
        "\n",
        "  \\begin{equation}\n",
        "    X < Y\n",
        "  \\end{equation}\n",
        "  \n",
        "Pero también queremos que el tiempo de espera sea como máximo 10 minutos, entoces podemos verlo como\n",
        "\n",
        "  \\begin{equation}\n",
        "    Y-X \\leq 10\n",
        "  \\end{equation}\n",
        "\n",
        "Entonces esto sería una probabilidad condicional, la cual podemos verla como\n",
        "\n",
        "  \\begin{equation}\n",
        "    P(X-Y\\leq 10 | X<Y) = \\frac{P(X-Y\\leq 10, X<Y)}{P(X<Y)}\n",
        "  \\end{equation}\n",
        "\n",
        "Por un lado podemos calcular al númerador como\n",
        "\n",
        "  \\begin{equation}\n",
        "    P\\left(Y-X\\leq 10, X<Y\\right )=\\frac{\\frac{1}{2}⋅ 10 ⋅20}{30⋅ 30}= \\frac{1}{9}\n",
        "  \\end{equation}\n",
        "\n",
        "Mientras que por otro lado tendremos que\n",
        "\n",
        "  \\begin{equation}\n",
        "    P(X<Y) = \\frac{\\frac{1}{2}⋅30⋅30}{30⋅30} = \\frac{1}{2}\n",
        "  \\end{equation}\n",
        "\n",
        "Finalmente la probabilidad condicional quedaría de la siguiente manera\n",
        "\n",
        "  \\begin{equation}\n",
        "    P(X-Y\\leq 10 | X<Y) = \\frac{P(X-Y\\leq 10, X<Y)}{P(X<Y)}= \\frac{\\frac{1}{9}}{\\frac{1}{2}} = \\frac{2}{9}\n",
        "  \\end{equation}\n",
        "\n",
        "Entonces la probabilidad de que la primera persona espere a la segunda persona en un tiempo como máximo de 10 minutos de 0.2222 o lo que equivale a 22.22\\%\n"
      ],
      "metadata": {
        "id": "NZ2KGvbsu7j4"
      }
    },
    {
      "cell_type": "markdown",
      "source": [
        "#**Simulación**"
      ],
      "metadata": {
        "id": "2a_ouoMiEf-d"
      }
    },
    {
      "cell_type": "code",
      "source": [
        "import numpy as np\n",
        "import random\n",
        "import matplotlib.pyplot as plt"
      ],
      "metadata": {
        "id": "CqO1mxNNkvwH"
      },
      "execution_count": 27,
      "outputs": []
    },
    {
      "cell_type": "code",
      "source": [
        "def prob_esp(n):\n",
        "\n",
        "  prob = [] # Creamos una lista vacía para almacenar las probabilidades estimadas\n",
        "  count = 0  # contador de eventos favorables\n",
        "\n",
        "  # Generamos dos tiempos aleatorios de llegada uniformemente distribuidos entre 0 y 30 minutos\n",
        "  for i in range(n):\n",
        "    x = random.uniform(0, 30)  # tiempo que tarda la persona 1\n",
        "    y = random.uniform(0, 30)  # tiempo que tarda la persona 2\n",
        "    if x < y and y - x <= 10:  # Comprobamos si la persona 1 llega antes que la persona 2 y si la diferencia entre los tiempos es menor o igual a 10 minutos\n",
        "        count += 1             # Si se cumple la condición, aumentamos el contador de eventos favorables\n",
        "        prob.append(count/(i+1)) # Calculamos la probabilidad estimada en cada iteración y la agregamos a la lista prob\n",
        "  return prob  # Devolvemos la lista de probabilidades estimadas"
      ],
      "metadata": {
        "id": "3V8ya0WWylZd"
      },
      "execution_count": 28,
      "outputs": []
    },
    {
      "cell_type": "code",
      "source": [
        "p = prob_esp(10000) # Asignamos valores a n y realizamos el experimento"
      ],
      "metadata": {
        "id": "2rcCJ18EyzyT"
      },
      "execution_count": 35,
      "outputs": []
    },
    {
      "cell_type": "code",
      "source": [
        "plt.plot(p,color=\"red\") #Graficar\n",
        "plt.xlabel('iteraciones') #Etiqueta del eje de las x\n",
        "plt.ylabel('probabilidad') #Etiqueta del eje de las y\n",
        "plt.title('Probabilidad de que la primera persona espere a lo más 10 minutos a la segunda persona') #Titulo de la grafica\n",
        "plt.show() #Mostrar la gráfica"
      ],
      "metadata": {
        "colab": {
          "base_uri": "https://localhost:8080/",
          "height": 472
        },
        "id": "5HX1A5lV4cA2",
        "outputId": "552da5f9-1cd1-4a65-eb76-a6609f3461d0"
      },
      "execution_count": 36,
      "outputs": [
        {
          "output_type": "display_data",
          "data": {
            "text/plain": [
              "<Figure size 640x480 with 1 Axes>"
            ],
            "image/png": "[encoded data removed]"
          },
          "metadata": {}
        }
      ]
    },
    {
      "cell_type": "code",
      "source": [
        "print(np.mean(p), np.std(p)) # Imprimimos la media y la desviación estándar de las probabilidades obtenidas"
      ],
      "metadata": {
        "colab": {
          "base_uri": "https://localhost:8080/"
        },
        "id": "s_clQSu762z3",
        "outputId": "661b3a92-7aba-4577-af15-e055e3082a2d"
      },
      "execution_count": 37,
      "outputs": [
        {
          "output_type": "stream",
          "name": "stdout",
          "text": [
            "0.26903937077480866 0.014758759512043444\n"
          ]
        }
      ]
    },
    {
      "cell_type": "code",
      "source": [
        "#Repetimos el experimento n veces\n",
        "def modelo(n):\n",
        "    lista = []\n",
        "    for i in range(n):\n",
        "      s = prob_esp(10000) # Repetimos el experimento 10000 veces y guardamos las probabilidades en la lista \n",
        "      lista.append(np.mean(s)) # Calculamos la media de las probabilidades de la lista s y la añadimos a la lista lista\n",
        "    return lista"
      ],
      "metadata": {
        "id": "0hSkDecr66N5"
      },
      "execution_count": 39,
      "outputs": []
    },
    {
      "cell_type": "code",
      "source": [
        "Y=modelo(200) # Generamos 200 simulaciones del experimento con la función modelo(n)"
      ],
      "metadata": {
        "id": "nNn8k1xm7AKy"
      },
      "execution_count": 40,
      "outputs": []
    },
    {
      "cell_type": "code",
      "source": [
        "plt.hist(Y, color=\"red\")#Graficar\n",
        "plt.show()#Mostrar la gráfica"
      ],
      "metadata": {
        "colab": {
          "base_uri": "https://localhost:8080/",
          "height": 430
        },
        "id": "J9w-fOL67C-G",
        "outputId": "49105e2a-e092-4e9e-b0e3-b417598a0dd8"
      },
      "execution_count": 41,
      "outputs": [
        {
          "output_type": "display_data",
          "data": {
            "text/plain": [
              "<Figure size 640x480 with 1 Axes>"
            ],
            "image/png": "[encoded data removed]"
          },
          "metadata": {}
        }
      ]
    },
    {
      "cell_type": "code",
      "source": [
        "np.mean(Y) #Calculamos e imprimimos la media"
      ],
      "metadata": {
        "colab": {
          "base_uri": "https://localhost:8080/"
        },
        "id": "iOoM94AC78Fr",
        "outputId": "5376b584-2348-4fdf-d8fb-cdf5c1164b04"
      },
      "execution_count": 42,
      "outputs": [
        {
          "output_type": "execute_result",
          "data": {
            "text/plain": [
              "0.27782687874235895"
            ]
          },
          "metadata": {},
          "execution_count": 42
        }
      ]
    },
    {
      "cell_type": "code",
      "source": [
        "np.mean(Y) - 1.96*np.std(Y)/np.sqrt(50), np.mean(Y) + 1.96*np.std(Y)/np.sqrt(50) #Calculamos el intervalo de confianza"
      ],
      "metadata": {
        "colab": {
          "base_uri": "https://localhost:8080/"
        },
        "id": "w19exmV179ZD",
        "outputId": "f6ec042e-2655-4af8-c4cf-56facfc014fa"
      },
      "execution_count": 43,
      "outputs": [
        {
          "output_type": "execute_result",
          "data": {
            "text/plain": [
              "(0.2759763879274793, 0.2796773695572386)"
            ]
          },
          "metadata": {},
          "execution_count": 43
        }
      ]
    }
  ]
}
