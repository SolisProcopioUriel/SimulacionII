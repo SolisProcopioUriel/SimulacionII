{
  "nbformat": 4,
  "nbformat_minor": 0,
  "metadata": {
    "colab": {
      "provenance": [],
      "authorship_tag": "ABX9TyN1HWMywWOO2+VKwaerLPBq",
      "include_colab_link": true
    },
    "kernelspec": {
      "name": "python3",
      "display_name": "Python 3"
    },
    "language_info": {
      "name": "python"
    }
  },
  "cells": [
    {
      "cell_type": "markdown",
      "metadata": {
        "id": "view-in-github",
        "colab_type": "text"
      },
      "source": [
        "<a href=\"https://colab.research.google.com/github/SolisProcopioUriel/SimulacionII/blob/main/Practica_I.ipynb\" target=\"_parent\"><img src=\"https://colab.research.google.com/assets/colab-badge.svg\" alt=\"Open In Colab\"/></a>"
      ]
    },
    {
      "cell_type": "markdown",
      "source": [
        "#**Nombre:Uriel Solis Procopio**\n",
        "#**Practica 1**"
      ],
      "metadata": {
        "id": "9Yr8nmwiJdr0"
      }
    },
    {
      "cell_type": "markdown",
      "source": [
        "#**Prueba de corridas**"
      ],
      "metadata": {
        "id": "tvmqFcK5o8M0"
      }
    },
    {
      "cell_type": "code",
      "source": [
        "import numpy as np\n",
        "from scipy.stats import norm"
      ],
      "metadata": {
        "id": "j7duYFCRpBPg"
      },
      "execution_count": null,
      "outputs": []
    },
    {
      "cell_type": "code",
      "source": [
        "# Generar n números aleatorios\n",
        "n = 100\n",
        "r = np.random.rand(n)"
      ],
      "metadata": {
        "id": "h9Y-c2NLpQxZ"
      },
      "execution_count": null,
      "outputs": []
    },
    {
      "cell_type": "code",
      "source": [
        "# Clasificar cada número aleatorio con respecto al anterior\n",
        "r_class = np.zeros(n)\n",
        "for i in range(1, n):\n",
        "    if r[i] > r[i-1]:\n",
        "        r_class[i] = 1"
      ],
      "metadata": {
        "id": "xUTd0uIcpUQH"
      },
      "execution_count": null,
      "outputs": []
    },
    {
      "cell_type": "code",
      "source": [
        "# Calcular el número de corridas observadas\n",
        "h = 1\n",
        "for i in range(1, n):\n",
        "    if r_class[i] != r_class[i-1]:\n",
        "        h += 1"
      ],
      "metadata": {
        "id": "8B_AblUZpiJO"
      },
      "execution_count": null,
      "outputs": []
    },
    {
      "cell_type": "code",
      "source": [
        "# Calcular E(h) y V(h)\n",
        "Eh = (2*n - 1) / 3\n",
        "Vh = (16*n - 29) / 90"
      ],
      "metadata": {
        "id": "hxiRDF0Kpv9b"
      },
      "execution_count": null,
      "outputs": []
    },
    {
      "cell_type": "code",
      "source": [
        "# Calcular el estadístico z\n",
        "z = (h - Eh) / np.sqrt(Vh)"
      ],
      "metadata": {
        "id": "lgxKX093p1kl"
      },
      "execution_count": null,
      "outputs": []
    },
    {
      "cell_type": "code",
      "source": [
        "# Calcular el valor crítico\n",
        "alpha = 0.05\n",
        "zc = norm.ppf(1 - alpha/2)"
      ],
      "metadata": {
        "id": "sew8uNOnp7El"
      },
      "execution_count": null,
      "outputs": []
    },
    {
      "cell_type": "code",
      "source": [
        "if abs(z) < zc:\n",
        "    print(\"Aceptamos la hipótesis de independencia.\")\n",
        "else:\n",
        "    pass"
      ],
      "metadata": {
        "colab": {
          "base_uri": "https://localhost:8080/"
        },
        "id": "rF728rqZqBfb",
        "outputId": "240cf0d2-d1f7-4b0e-a66d-fe4b43a6f85c"
      },
      "execution_count": null,
      "outputs": [
        {
          "output_type": "stream",
          "name": "stdout",
          "text": [
            "Aceptamos la hipótesis de independencia.\n"
          ]
        }
      ]
    },
    {
      "cell_type": "markdown",
      "source": [
        "#**Prueba de medias**"
      ],
      "metadata": {
        "id": "VCq1YnRAJlu_"
      }
    },
    {
      "cell_type": "code",
      "source": [
        "import numpy as np\n",
        "import random\n",
        "from scipy.stats import norm\n",
        "import math"
      ],
      "metadata": {
        "id": "aM8d5qLqJpbn"
      },
      "execution_count": null,
      "outputs": []
    },
    {
      "cell_type": "code",
      "source": [
        "# Solicitar al usuario el tamaño de la lista a generar\n",
        "n = int(input(\"Ingrese el tamaño de la lista: \"))"
      ],
      "metadata": {
        "colab": {
          "base_uri": "https://localhost:8080/"
        },
        "id": "A85L54elJxsu",
        "outputId": "12cced89-ddd8-42e6-c888-a359a35b590b"
      },
      "execution_count": null,
      "outputs": [
        {
          "name": "stdout",
          "output_type": "stream",
          "text": [
            "Ingrese el tamaño de la lista: 10\n"
          ]
        }
      ]
    },
    {
      "cell_type": "code",
      "source": [
        "# Generar una lista de números aleatorios\n",
        "lista = [random.random() for _ in range(n)]\n"
      ],
      "metadata": {
        "id": "nyxR2kklJ44L"
      },
      "execution_count": null,
      "outputs": []
    },
    {
      "cell_type": "code",
      "source": [
        "# Calcular la media de la lista\n",
        "media = sum(lista) / len(lista)\n",
        "print(\"La media es:\", media)"
      ],
      "metadata": {
        "colab": {
          "base_uri": "https://localhost:8080/"
        },
        "id": "1z6GhRJ6J6Vj",
        "outputId": "1c29e976-4e21-4a1b-f3c8-135ecb2086d1"
      },
      "execution_count": null,
      "outputs": [
        {
          "output_type": "stream",
          "name": "stdout",
          "text": [
            "La media es: 0.4833247699009776\n"
          ]
        }
      ]
    },
    {
      "cell_type": "code",
      "source": [
        "# Solicitar al usuario el nivel de confianza deseado para la prueba de medias\n",
        "nivel_confianza = int(input(\"Ingrese el nivel de confianza que desea para la prueba de Medias: \"))"
      ],
      "metadata": {
        "colab": {
          "base_uri": "https://localhost:8080/"
        },
        "id": "j-KoImCYJ9vH",
        "outputId": "09b48760-8d06-47c4-9291-007fcc09d13e"
      },
      "execution_count": null,
      "outputs": [
        {
          "name": "stdout",
          "output_type": "stream",
          "text": [
            "Ingrese el nivel de confianza que desea para la prueba de Medias: 95\n"
          ]
        }
      ]
    },
    {
      "cell_type": "code",
      "source": [
        "# Calcular el valor de z correspondiente al nivel de confianza deseado\n",
        "z = norm.ppf((1 + (nivel_confianza/100)) / 2)\n",
        "print(\"El valor de z para un nivel de confianza del\", nivel_confianza, \"% es:\", round(z,2))"
      ],
      "metadata": {
        "colab": {
          "base_uri": "https://localhost:8080/"
        },
        "id": "ftADSgHAKGwb",
        "outputId": "de25061e-775e-48db-ae04-c8d6051e8dbc"
      },
      "execution_count": null,
      "outputs": [
        {
          "output_type": "stream",
          "name": "stdout",
          "text": [
            "El valor de z para un nivel de confianza del 95 % es: 1.96\n"
          ]
        }
      ]
    },
    {
      "cell_type": "code",
      "source": [
        "# Calcular los límites superior e inferior para la prueba de medias\n",
        "limit_s = (1/2) + z *(1/math.sqrt(12*len(lista)))\n",
        "limit_i = (1/2) - z *(1/math.sqrt(12*len(lista)))\n",
        "print(\"El límite superior es:\", limit_s)\n",
        "print(\"El límite inferior es:\", limit_i)"
      ],
      "metadata": {
        "colab": {
          "base_uri": "https://localhost:8080/"
        },
        "id": "gCSLxWZQKOzL",
        "outputId": "cdcc8b5d-0a35-4f26-fc7e-cf5e951a39b9"
      },
      "execution_count": null,
      "outputs": [
        {
          "output_type": "stream",
          "name": "stdout",
          "text": [
            "El límite superior es: 0.6789194143717157\n",
            "El límite inferior es: 0.32108058562828434\n"
          ]
        }
      ]
    },
    {
      "cell_type": "code",
      "source": [
        "# Evaluar si se cumple la hipótesis nula (H_o = media = 1/2) basada en los límites calculados\n",
        "if (limit_i<=limit_s):\n",
        "    print(\"Se cumple que H_o = media = 1/2\")\n",
        "else:\n",
        "    print(\"No se cumple\")"
      ],
      "metadata": {
        "colab": {
          "base_uri": "https://localhost:8080/"
        },
        "id": "4FUWWRAGKR9t",
        "outputId": "606d6b1d-2e52-407b-8657-50ab66977315"
      },
      "execution_count": null,
      "outputs": [
        {
          "output_type": "stream",
          "name": "stdout",
          "text": [
            "Se cumple que H_o = media = 1/2\n"
          ]
        }
      ]
    },
    {
      "cell_type": "markdown",
      "source": [
        "#**Prueba de varianzas**"
      ],
      "metadata": {
        "id": "qzrdaTvs4VRn"
      }
    },
    {
      "cell_type": "code",
      "source": [
        "import numpy as np\n",
        "from scipy.stats import chi2"
      ],
      "metadata": {
        "id": "FyUwQZ7p4MRf"
      },
      "execution_count": 4,
      "outputs": []
    },
    {
      "cell_type": "code",
      "source": [
        "# Paso 1: Calcular la varianza de los n números generados\n",
        "n = 10000  # número de datos\n",
        "datos = np.random.normal(0, 1, n)  # generar n números aleatorios\n",
        "varianza = np.var(datos, ddof=1)  # calcular la varianza muestral"
      ],
      "metadata": {
        "id": "ahPyx-qehAMg"
      },
      "execution_count": 18,
      "outputs": []
    },
    {
      "cell_type": "code",
      "source": [
        "# Paso 2: calcular los límites superiores e inferiores de aceptación\n",
        "alpha = 0.05  # nivel de significancia\n",
        "gl = n - 1  # grados de libertad\n",
        "ls = chi2.ppf(1 - alpha/2, gl)/(12*n-12)  # límite superior de aceptación\n",
        "li = chi2.ppf(alpha/2, gl)/(12*n-12)  # límite inferior de aceptación"
      ],
      "metadata": {
        "id": "DHzDr6VGhOnM"
      },
      "execution_count": 19,
      "outputs": []
    },
    {
      "cell_type": "code",
      "source": [
        "# Paso 3: verificar si se acepta o rechaza la hipótesis nula\n",
        "if li <= varianza <= ls:\n",
        "    print(\"Se acepta la hipótesis nula\")\n",
        "else:\n",
        "    print(\"Se rechaza la hipótesis nula\")"
      ],
      "metadata": {
        "colab": {
          "base_uri": "https://localhost:8080/"
        },
        "id": "eyGgtIfdHMze",
        "outputId": "d74ca266-a3e9-4a9b-e172-0d3e057df55d"
      },
      "execution_count": 20,
      "outputs": [
        {
          "output_type": "stream",
          "name": "stdout",
          "text": [
            "Se rechaza la hipótesis nula\n"
          ]
        }
      ]
    },
    {
      "cell_type": "markdown",
      "source": [
        "#Prueba de bondad de ajuste $\\chi ^2$ \n"
      ],
      "metadata": {
        "id": "SPZrgHDgIJPz"
      }
    },
    {
      "cell_type": "code",
      "source": [
        "import numpy as np\n",
        "from scipy.stats import chi2, norm"
      ],
      "metadata": {
        "id": "6Fxzl4-zIXUv"
      },
      "execution_count": 26,
      "outputs": []
    },
    {
      "cell_type": "code",
      "source": [
        "# Paso 1: Se colocan los n datos históricos en una tabla de frecuencias de m = sqrt(n) intervalos,\n",
        "# se obtiene la frecuencia observada en cada intervalo\n",
        "n = 1000  # número de datos\n",
        "m = int(np.sqrt(n))  # número de intervalos\n",
        "datos = np.random.normal(0, 1, n)  # generar n números aleatorios\n",
        "fo, bins = np.histogram(datos, bins=m)  # frecuencia observada y límites de los intervalos"
      ],
      "metadata": {
        "id": "Hlz6J24jMTS3"
      },
      "execution_count": 22,
      "outputs": []
    },
    {
      "cell_type": "code",
      "source": [
        "# Paso 2\n",
        "mu = 0\n",
        "sigma = 1\n",
        "k = 2  # número de parámetros estimados\n",
        "f = norm.pdf(bins, loc=mu, scale=sigma)\n",
        "fe = n * np.diff(norm.cdf(bins, loc=mu, scale=sigma))"
      ],
      "metadata": {
        "id": "_KzsebfIMVvp"
      },
      "execution_count": 27,
      "outputs": []
    },
    {
      "cell_type": "code",
      "source": [
        "# Paso 4: Se calcula el estadístico de prueba c\n",
        "c = np.sum((fe - fo)**2 / fe)"
      ],
      "metadata": {
        "id": "HJ_RPI8DMd6P"
      },
      "execution_count": 29,
      "outputs": []
    },
    {
      "cell_type": "code",
      "source": [
        "# Paso 5: Se calcula el valor crítico x2 correspondiente con m-k-1 grados de libertad (k es el número de parámetros estimados de la distribución)\n",
        "gl = m - 3  # suponiendo que se están estimando la media y la desviación estándar\n",
        "alpha = 0.05  # nivel de significancia\n",
        "xc = chi2.ppf(1 - alpha, gl)"
      ],
      "metadata": {
        "id": "v7DoKNoVMeqa"
      },
      "execution_count": 30,
      "outputs": []
    },
    {
      "cell_type": "code",
      "source": [
        "# Paso 6: Se compara el valor calculado del estadístico de prueba con el valor crítico y se toma la decisión\n",
        "if c <= xc:\n",
        "    print(\"No se puede rechazar la hipótesis de que los datos siguen la distribución propuesta\")\n",
        "else:\n",
        "    print(\"Se rechaza la hipótesis de que los datos siguen la distribución propuesta\")"
      ],
      "metadata": {
        "colab": {
          "base_uri": "https://localhost:8080/"
        },
        "id": "lWmVkWKCMg7d",
        "outputId": "8116be2b-a0ab-42a8-c8f0-3c471c30af62"
      },
      "execution_count": 31,
      "outputs": [
        {
          "output_type": "stream",
          "name": "stdout",
          "text": [
            "No se puede rechazar la hipótesis de que los datos siguen la distribución propuesta\n"
          ]
        }
      ]
    },
    {
      "cell_type": "markdown",
      "source": [
        "#**Prueba de Kolmogorov-Smirnov**"
      ],
      "metadata": {
        "id": "_F9V1kQ4Pihi"
      }
    },
    {
      "cell_type": "code",
      "source": [
        "import numpy as np\n",
        "from scipy.stats import kstwo"
      ],
      "metadata": {
        "id": "DUpmiXUZPs0V"
      },
      "execution_count": 36,
      "outputs": []
    },
    {
      "cell_type": "code",
      "source": [
        "def prueba_kolmogorov_smirnov(datos, alpha):\n",
        "    n = len(datos)\n",
        "    datos_ord = np.sort(datos)\n",
        "    dmas = np.max([(i+1)/n - datos_ord[i] for i in range(n)])\n",
        "    dmenos = np.max([datos_ord[i] - i/n for i in range(n)])\n",
        "    d = max(dmas, dmenos)\n",
        "    d_tabla = kstwo.ppf(1-alpha/2, n)\n",
        "    if d > d_tabla:\n",
        "        print(\"Se rechaza la hipótesis de que los datos siguen una distribución uniforme\")\n",
        "    else:\n",
        "        print(\"Se acepta que los datos siguen una distribución uniforme\")"
      ],
      "metadata": {
        "id": "RTyU5malPvoG"
      },
      "execution_count": 44,
      "outputs": []
    }
  ]
}
