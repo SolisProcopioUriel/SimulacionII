{
  "nbformat": 4,
  "nbformat_minor": 0,
  "metadata": {
    "colab": {
      "provenance": [],
      "include_colab_link": true
    },
    "kernelspec": {
      "name": "python3",
      "display_name": "Python 3"
    },
    "language_info": {
      "name": "python"
    }
  },
  "cells": [
    {
      "cell_type": "markdown",
      "metadata": {
        "id": "view-in-github",
        "colab_type": "text"
      },
      "source": [
        "<a href=\"https://colab.research.google.com/github/SolisProcopioUriel/SimulacionII/blob/main/Problema_1_Parcial_3.ipynb\" target=\"_parent\"><img src=\"https://colab.research.google.com/assets/colab-badge.svg\" alt=\"Open In Colab\"/></a>"
      ]
    },
    {
      "cell_type": "markdown",
      "source": [
        "#Nombre: Solis Procopio Uriel"
      ],
      "metadata": {
        "id": "eoFbq99xT6FF"
      }
    },
    {
      "cell_type": "markdown",
      "source": [
        "Una empresa dedicada a la comercialización de un producto de mucho éxito quiere determinar el número de unidades que debe comprar con el objetivo de satisfacer la demanda de sus clientes los próximos meses. La distribución de las ventas de los últimos 3 años se recoge en la tabla siguiente.\n",
        "\n",
        "| Unidad vendidas | 100 | 200 | 300 | 400 | 500 | 600 |\n",
        "|------           |-----|-----|-----|-----|-----|-----|\n",
        "|frecuencia meses |  8  | 9   |  4  |  9  |  4  |  2  |\n",
        "\n",
        "\n",
        "El costo de cada unidad de producto asciende a 750 euros, siendo su precio de venta unitario de 1,000 euros. Se sabe que dentro de un mes saldrá al mercado un nuevo modelo de carcaterísticas muy superiores al modelo actual y este le indebnizara con 250 euros por cada unidad retornada"
      ],
      "metadata": {
        "id": "mzR4TvrTc647"
      }
    },
    {
      "cell_type": "code",
      "source": [
        "import numpy as np\n",
        "import random\n",
        "import matplotlib.pyplot as plt"
      ],
      "metadata": {
        "id": "0j_H9OwDERGF"
      },
      "execution_count": null,
      "outputs": []
    },
    {
      "cell_type": "code",
      "source": [
        "def prob_esp(n):\n",
        "    prob = []\n",
        "    count = 0\n",
        "\n",
        "\n",
        "# Distribución de ventas\n",
        "ventas = [100] * 8 + [200] * 9 + [300] * 4 + [400] * 9 + [500] * 4 + [600] * 2\n",
        "\n",
        "# Cálculo de la demanda esperada\n",
        "demanda_esperada = sum(ventas) / len(ventas)\n",
        "\n",
        "# Cálculo de la cantidad a comprar\n",
        "unidades_comprar = max(0, demanda_esperada - len(ventas) * 0.1)  # Se resta un 10% por la previsión de ventas del nuevo modelo\n",
        "\n",
        "# Cálculo del costo y la ganancia\n",
        "costo_compra = unidades_comprar * 750\n",
        "ganancia_venta = unidades_comprar * 1000\n",
        "ganancia_devolucion = unidades_comprar * 250\n",
        "\n",
        "print(\"Demanda esperada:\", demanda_esperada)\n",
        "print(\"Unidades a comprar:\", unidades_comprar)\n",
        "print(\"Costo de compra:\", costo_compra, \"euros\")\n",
        "print(\"Ganancia por venta:\", ganancia_venta, \"euros\")\n",
        "print(\"Ganancia por devolución:\", ganancia_devolucion, \"euros\")"
      ],
      "metadata": {
        "colab": {
          "base_uri": "https://localhost:8080/"
        },
        "id": "hc_22SlqDrv8",
        "outputId": "f143c4e4-4c0b-4370-cb15-edbcc038b40c"
      },
      "execution_count": null,
      "outputs": [
        {
          "output_type": "stream",
          "name": "stdout",
          "text": [
            "Demanda esperada: 294.44444444444446\n",
            "Unidades a comprar: 290.84444444444443\n",
            "Costo de compra: 218133.3333333333 euros\n",
            "Ganancia por venta: 290844.44444444444 euros\n",
            "Ganancia por devolución: 72711.11111111111 euros\n"
          ]
        }
      ]
    },
    {
      "cell_type": "code",
      "source": [
        "p = prob_esp(700)\n",
        "p"
      ],
      "metadata": {
        "id": "gmdl1rTYD7yy"
      },
      "execution_count": null,
      "outputs": []
    },
    {
      "cell_type": "code",
      "source": [
        "plt.plot(p,color=\"red\") #Graficar\n",
        "plt.xlabel('iteraciones') #Etiqueta del eje de las x\n",
        "plt.ylabel('Unidades a comprar') #Etiqueta del eje de las y\n",
        "plt.show() #Mostrar la gráfica"
      ],
      "metadata": {
        "colab": {
          "base_uri": "https://localhost:8080/",
          "height": 449
        },
        "id": "PEHmkFCaEBXQ",
        "outputId": "6086efb8-fb17-41ba-b784-9dc562ef3397"
      },
      "execution_count": null,
      "outputs": [
        {
          "output_type": "display_data",
          "data": {
            "text/plain": [
              "<Figure size 640x480 with 1 Axes>"
            ],
            "image/png": "[encoded data removed]"
          },
          "metadata": {}
        }
      ]
    },
    {
      "cell_type": "code",
      "source": [
        "print(np.mean(p), np.std(p)) # Imprimimos la media y la desviación estándar de las probabilidades obtenidas"
      ],
      "metadata": {
        "colab": {
          "base_uri": "https://localhost:8080/"
        },
        "id": "tykIsvoRFBP6",
        "outputId": "fc8f08c4-206f-4236-bda1-2d3114155e6e"
      },
      "execution_count": null,
      "outputs": [
        {
          "output_type": "stream",
          "name": "stdout",
          "text": [
            "491.0301073443588 15.466615116134129\n"
          ]
        }
      ]
    },
    {
      "cell_type": "code",
      "source": [
        "x\n",
        "\n",
        "def modelo(n):\n",
        "    lista = []\n",
        "    for i in range(n):\n",
        "      s = prob_esp(10000) # Repetimos el experimento 10000 veces y guardamos las probabilidades en la lista\n",
        "      lista.append(np.mean(s)) # Calculamos la media de las probabilidades de la lista s y la añadimos a la lista lista\n",
        "    return lista"
      ],
      "metadata": {
        "id": "7XjKXl68FC0m"
      },
      "execution_count": null,
      "outputs": []
    },
    {
      "cell_type": "code",
      "source": [
        "Y=modelo(300) # Generamos 200 simulaciones del experimento con la función modelo(n)"
      ],
      "metadata": {
        "id": "Hv-ObElvFIow"
      },
      "execution_count": null,
      "outputs": []
    },
    {
      "cell_type": "code",
      "source": [
        "plt.hist(Y, color=\"red\")#Graficar\n",
        "plt.show()#Mostrar la gráfica"
      ],
      "metadata": {
        "colab": {
          "base_uri": "https://localhost:8080/",
          "height": 430
        },
        "id": "jEE7ve2BFPoH",
        "outputId": "03cfdae8-f408-4a1c-d0bb-1215c810a4b0"
      },
      "execution_count": null,
      "outputs": [
        {
          "output_type": "display_data",
          "data": {
            "text/plain": [
              "<Figure size 640x480 with 1 Axes>"
            ],
            "image/png": "[encoded data removed]"
          },
          "metadata": {}
        }
      ]
    },
    {
      "cell_type": "code",
      "source": [
        "print(np.mean(Y), np.std(Y)) # Imprimimos la media y la desviación estándar"
      ],
      "metadata": {
        "colab": {
          "base_uri": "https://localhost:8080/"
        },
        "id": "k7iGHL5yFYPT",
        "outputId": "14424e9b-08aa-40bc-c9fd-3cbda31e8345"
      },
      "execution_count": null,
      "outputs": [
        {
          "output_type": "stream",
          "name": "stdout",
          "text": [
            "489.817674762029 2.459960987051405\n"
          ]
        }
      ]
    },
    {
      "cell_type": "code",
      "source": [
        "np.mean(Y) #Calculamos e imprimimos la media"
      ],
      "metadata": {
        "colab": {
          "base_uri": "https://localhost:8080/"
        },
        "id": "pPzCYV7EFe50",
        "outputId": "3c8e9747-4fe5-4978-ca34-31c08edc2543"
      },
      "execution_count": null,
      "outputs": [
        {
          "output_type": "execute_result",
          "data": {
            "text/plain": [
              "489.817674762029"
            ]
          },
          "metadata": {},
          "execution_count": 54
        }
      ]
    },
    {
      "cell_type": "code",
      "source": [
        "np.mean(Y) - 1.96*np.std(Y)/np.sqrt(50), np.mean(Y) + 1.96*np.std(Y)/np.sqrt(50) #Calculamos el intervalo de confianza"
      ],
      "metadata": {
        "colab": {
          "base_uri": "https://localhost:8080/"
        },
        "id": "2QCjKg9SFhhx",
        "outputId": "7e012a2b-3304-47bd-f5cf-9439ba398f15"
      },
      "execution_count": null,
      "outputs": [
        {
          "output_type": "execute_result",
          "data": {
            "text/plain": [
              "(489.13580836463285, 490.4995411594252)"
            ]
          },
          "metadata": {},
          "execution_count": 55
        }
      ]
    }
  ]
}
