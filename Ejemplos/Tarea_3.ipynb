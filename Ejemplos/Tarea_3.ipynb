{
  "nbformat": 4,
  "nbformat_minor": 0,
  "metadata": {
    "colab": {
      "provenance": [],
      "authorship_tag": "ABX9TyP6xLOk3YHGf2f9B2layrIK",
      "include_colab_link": true
    },
    "kernelspec": {
      "name": "python3",
      "display_name": "Python 3"
    },
    "language_info": {
      "name": "python"
    }
  },
  "cells": [
    {
      "cell_type": "markdown",
      "metadata": {
        "id": "view-in-github",
        "colab_type": "text"
      },
      "source": [
        "<a href=\"https://colab.research.google.com/github/SolisProcopioUriel/SimulacionII/blob/main/Tarea_3.ipynb\" target=\"_parent\"><img src=\"https://colab.research.google.com/assets/colab-badge.svg\" alt=\"Open In Colab\"/></a>"
      ]
    },
    {
      "cell_type": "code",
      "execution_count": 1,
      "metadata": {
        "colab": {
          "base_uri": "https://localhost:8080/"
        },
        "id": "DL9UiaBifU6f",
        "outputId": "77b73291-4fb6-481a-f31c-6d6d0b2153e7"
      },
      "outputs": [
        {
          "output_type": "stream",
          "name": "stdout",
          "text": [
            "Looking in indexes: https://pypi.org/simple, https://us-python.pkg.dev/colab-wheels/public/simple/\n",
            "Collecting simpy\n",
            "  Downloading simpy-4.0.1-py2.py3-none-any.whl (29 kB)\n",
            "Installing collected packages: simpy\n",
            "Successfully installed simpy-4.0.1\n"
          ]
        }
      ],
      "source": [
        "!pip install simpy\n",
        "import simpy\n",
        "import numpy as np"
      ]
    },
    {
      "cell_type": "code",
      "source": [
        "def warehouse_run(env, order_cutoff ,order_target):\n",
        "  global inventory, balance, num_ordered\n",
        "\n",
        "  inventory = order_target\n",
        "  balance = 0.0\n",
        "  num_ordered = 0\n",
        "\n",
        "  while True:\n",
        "    interarrival = generate_interarrival()\n",
        "    yield env.timeout(interarrival)\n",
        "    balance -= inventory*2*interarrival\n",
        "    demand = generate_demand()\n",
        "    if demand < inventory:\n",
        "      balance += 100 * demand\n",
        "      inventory -= demand\n",
        "      print ('{:.2f} sold {}'.format(env.now, demand))\n",
        "    else:\n",
        "      balance += 100 * inventory\n",
        "      inventory = 0\n",
        "      print ('{:.2f} sold {} (out of stock)'.format(env.now, inventory))\n",
        "\n",
        "    if inventory < order_cutoff and num_ordered == 0:\n",
        "        env.process(handle_order(env, order_target))"
      ],
      "metadata": {
        "id": "vO9OZUzJfivW"
      },
      "execution_count": 2,
      "outputs": []
    },
    {
      "cell_type": "markdown",
      "source": [
        "La función warehouse_run es la función principal que simula el funcionamiento del almacén. Toma tres parámetros: env (el entorno de SimPy), order_cutoff (el nivel de inventario que desencadena un pedido) y order_target (la cantidad a pedir).\n",
        "\n",
        "Dentro de la función, se inicializan las variables globales inventory (nivel de inventario), balance (balance financiero) y num_ordered (cantidad de artículos pedidos pero no recibidos). Luego, se inicia un bucle infinito.\n",
        "\n",
        "En cada iteración del bucle, se genera un tiempo de llegada entre pedidos utilizando la función generate_interarrival. Se usa yield env.timeout(interarrival) para esperar ese tiempo en la simulación. A continuación, se actualiza el balance restando el costo de mantener el inventario durante el intervalo de tiempo.\n",
        "\n",
        "Luego, se genera una demanda utilizando la función generate_demand. Si la demanda es menor que el inventario actual, se venden los artículos demandados, se actualiza el balance y se reduce el inventario. Se imprime un mensaje indicando la cantidad vendida.\n",
        "\n",
        "Si la demanda es mayor o igual al inventario actual, se vende todo el inventario, se actualiza el balance y se establece el inventario en cero. Se imprime un mensaje indicando que el inventario está agotado.\n",
        "\n",
        "Si el nivel de inventario cae por debajo del punto de corte establecido por order_cutoff y no hay pedidos pendientes, se inicia un proceso handle_order para realizar un pedido adicional."
      ],
      "metadata": {
        "id": "434p0rQOf2Jg"
      }
    },
    {
      "cell_type": "code",
      "source": [
        "def handle_order(env, order_target):\n",
        "    global inventory, balance, num_ordered\n",
        "\n",
        "    num_ordered = order_target - inventory\n",
        "    print ('{:.2f} place order for {}'.format(env.now, num_ordered))\n",
        "    balance-= 50* num_ordered\n",
        "    yield env.timeout(2.0)\n",
        "    inventory += num_ordered\n",
        "    num_ordered= 0\n",
        "    print ('{:.2f} received order, {} in inventory '.format(env.now, inventory))"
      ],
      "metadata": {
        "id": "ZX5pDiM5f39b"
      },
      "execution_count": 3,
      "outputs": []
    },
    {
      "cell_type": "markdown",
      "source": [
        "La función handle_order se encarga de manejar el proceso de realizar un pedido adicional. Toma dos parámetros: env (el entorno de SimPy) y order_target (la cantidad a pedir).\n",
        "\n",
        "Dentro de la función, se actualiza num_ordered para reflejar la cantidad de artículos pedidos pero no recibidos. Se reduce el balance en función del costo del pedido (50 es el costo por artículo). Luego, se espera un tiempo de 2.0 unidades de tiempo para simular el tiempo de entrega del pedido. Después de eso, se incrementa el inventario en la cantidad pedida y se restablece num_ordered a cero. Se imprime un mensaje indicando la recepción del pedido y el nivel actual de inventario."
      ],
      "metadata": {
        "id": "oYVMZKjSgIFH"
      }
    },
    {
      "cell_type": "code",
      "source": [
        "def generate_interarrival():\n",
        "  return np.random.exponential(1./5)\n",
        "\n",
        "def generate_demand():\n",
        "  return np.random.randint(1,5)"
      ],
      "metadata": {
        "id": "mbX6cmpqgJgV"
      },
      "execution_count": 4,
      "outputs": []
    },
    {
      "cell_type": "markdown",
      "source": [
        "Estas funciones generan números aleatorios utilizados en la simulación. generate_interarrival genera tiempos de llegada entre pedidos a partir de una distribución exponencial. generate_demand genera una demanda aleatoria entre 1 y 4."
      ],
      "metadata": {
        "id": "lJGKN7WogPtB"
      }
    },
    {
      "cell_type": "code",
      "source": [
        "obs_time = []\n",
        "inventory_level = []\n",
        "\n",
        "def observe(env):\n",
        "    global inventory\n",
        "\n",
        "    while True :\n",
        "        obs_time.append(env.now)\n",
        "        inventory_level.append(inventory)\n",
        "        yield env.timeout(0.1)"
      ],
      "metadata": {
        "id": "n22zaBDjgQyK"
      },
      "execution_count": 5,
      "outputs": []
    },
    {
      "cell_type": "markdown",
      "source": [
        "Estas líneas de código definen la función observe que se encarga de registrar el tiempo de la simulación (env.now) y el nivel de inventario en listas (obs_time y inventory_level, respectivamente). La función se ejecuta continuamente en un bucle infinito, registrando los valores cada 0.1 unidades de tiempo."
      ],
      "metadata": {
        "id": "ScxNvF8CgVHk"
      }
    },
    {
      "cell_type": "code",
      "source": [
        "np.random.seed(2)\n",
        "\n",
        "env=simpy.Environment()\n",
        "env.process(warehouse_run(env,10,30))\n",
        "env.process(observe(env))\n",
        "\n",
        "env.run(until=5.0)"
      ],
      "metadata": {
        "colab": {
          "base_uri": "https://localhost:8080/"
        },
        "id": "_L0_9CIigZGE",
        "outputId": "e266387b-6802-4980-91f7-f70f2b68f242"
      },
      "execution_count": 6,
      "outputs": [
        {
          "output_type": "stream",
          "name": "stdout",
          "text": [
            "0.11 sold 2\n",
            "0.65 sold 4\n",
            "0.77 sold 1\n",
            "0.84 sold 2\n",
            "0.89 sold 2\n",
            "0.91 sold 4\n",
            "0.98 sold 1\n",
            "1.32 sold 4\n",
            "1.35 sold 1\n",
            "1.35 place order for 21\n",
            "1.52 sold 4\n",
            "1.83 sold 3\n",
            "1.99 sold 1\n",
            "2.36 sold 0 (out of stock)\n",
            "3.06 sold 0 (out of stock)\n",
            "3.08 sold 0 (out of stock)\n",
            "3.10 sold 0 (out of stock)\n",
            "3.13 sold 0 (out of stock)\n",
            "3.29 sold 0 (out of stock)\n",
            "3.32 sold 0 (out of stock)\n",
            "3.35 received order, 21 in inventory \n",
            "3.49 sold 4\n",
            "3.62 sold 3\n",
            "3.74 sold 4\n",
            "3.87 sold 1\n",
            "3.87 place order for 21\n",
            "4.09 sold 3\n",
            "4.41 sold 2\n",
            "4.43 sold 2\n",
            "4.67 sold 0 (out of stock)\n",
            "4.82 sold 0 (out of stock)\n"
          ]
        }
      ]
    },
    {
      "cell_type": "markdown",
      "source": [],
      "metadata": {
        "id": "pbzdFGmogcns"
      }
    },
    {
      "cell_type": "markdown",
      "source": [
        "Aquí se establece la semilla aleatoria para reproducibilidad (np.random.seed(2)). Se crea un objeto Environment de SimPy llamado env. Luego, se inician dos procesos en paralelo: warehouse_run con los parámetros env, 10 y 30, y observe con el parámetro env. La función env.run(until=5.0) ejecuta la simulación hasta que el tiempo de simulación alcanza 5.0 unidades de tiempo."
      ],
      "metadata": {
        "id": "rc6NaB51gcyv"
      }
    },
    {
      "cell_type": "code",
      "source": [
        "import matplotlib.pyplot as plt\n",
        "\n",
        "plt.figure()\n",
        "plt.step(obs_time, inventory_level, where ='post', color = 'red')\n",
        "plt.xlabel('Simulation time (days)')\n",
        "plt.ylabel('Inventory level')"
      ],
      "metadata": {
        "colab": {
          "base_uri": "https://localhost:8080/",
          "height": 466
        },
        "id": "fWdrn4emgnkW",
        "outputId": "749ae7d4-a4fc-4af1-a04f-594e7ed64bbf"
      },
      "execution_count": 7,
      "outputs": [
        {
          "output_type": "execute_result",
          "data": {
            "text/plain": [
              "Text(0, 0.5, 'Inventory level')"
            ]
          },
          "metadata": {},
          "execution_count": 7
        },
        {
          "output_type": "display_data",
          "data": {
            "text/plain": [
              "<Figure size 640x480 with 1 Axes>"
            ],
            "image/png": "[encoded data removed]"
          },
          "metadata": {}
        }
      ]
    },
    {
      "cell_type": "markdown",
      "source": [
        "Finalmente, se importa la biblioteca Matplotlib para visualizar los resultados de la simulación. Se crea una figura y se traza una gráfica escalonada (step) del nivel de inventario en función del tiempo de simulación utilizando los datos almacenados en obs_time y inventory_level. Se establecen etiquetas para los ejes $X$ e $Y$."
      ],
      "metadata": {
        "id": "cZMZtui0gtV4"
      }
    }
  ]
}
